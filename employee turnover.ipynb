{
 "cells": [
  {
   "cell_type": "markdown",
   "id": "a1276c52",
   "metadata": {},
   "source": [
    "Руководство компании обеспокоено высокой текучестью кадров, поэтому отделу кадров необходимо разработать систему для снижения количества уволившихся сотрудников. Нам предоставили набор данных с информацией о работниках за последние 24 месяца.\n",
    "\n",
    "**Цель:** разработка рекомендаций для снижения текучести кадров в компании.\n",
    "\n",
    "**Задачи:**\n",
    " - определить коэффициент текучести кадров в общем и отдельно по департаментам.\n",
    " - оценить влияние уровня удовлетворенности и оценок за аттестации на вероятность увольнения.\n",
    " - определить, влияют ли повышение и выплата бонусов на вероятность увольнения."
   ]
  },
  {
   "cell_type": "markdown",
   "id": "e941a0db",
   "metadata": {},
   "source": [
    "Импортируем библиотеки"
   ]
  },
  {
   "cell_type": "code",
   "execution_count": 1,
   "id": "ded1032a",
   "metadata": {},
   "outputs": [],
   "source": [
    "import pandas as pd\n",
    "import numpy as np\n",
    "import matplotlib.pyplot as plt\n",
    "import seaborn as sns\n",
    "import pingouin as pg\n",
    "import scipy.stats "
   ]
  },
  {
   "cell_type": "markdown",
   "id": "2f4fbfef",
   "metadata": {},
   "source": [
    "Загружаем датасет, смотрим на первые строки, информацию о типах данных, проверяем, есть ли пропущенные значения."
   ]
  },
  {
   "cell_type": "code",
   "execution_count": 2,
   "id": "ec551218",
   "metadata": {
    "scrolled": true
   },
   "outputs": [
    {
     "data": {
      "text/html": [
       "<div>\n",
       "<style scoped>\n",
       "    .dataframe tbody tr th:only-of-type {\n",
       "        vertical-align: middle;\n",
       "    }\n",
       "\n",
       "    .dataframe tbody tr th {\n",
       "        vertical-align: top;\n",
       "    }\n",
       "\n",
       "    .dataframe thead th {\n",
       "        text-align: right;\n",
       "    }\n",
       "</style>\n",
       "<table border=\"1\" class=\"dataframe\">\n",
       "  <thead>\n",
       "    <tr style=\"text-align: right;\">\n",
       "      <th></th>\n",
       "      <th>department</th>\n",
       "      <th>promoted</th>\n",
       "      <th>review</th>\n",
       "      <th>projects</th>\n",
       "      <th>salary</th>\n",
       "      <th>tenure</th>\n",
       "      <th>satisfaction</th>\n",
       "      <th>bonus</th>\n",
       "      <th>avg_hrs_month</th>\n",
       "      <th>left</th>\n",
       "    </tr>\n",
       "  </thead>\n",
       "  <tbody>\n",
       "    <tr>\n",
       "      <th>0</th>\n",
       "      <td>operations</td>\n",
       "      <td>0</td>\n",
       "      <td>0.577569</td>\n",
       "      <td>3</td>\n",
       "      <td>low</td>\n",
       "      <td>5.0</td>\n",
       "      <td>0.626759</td>\n",
       "      <td>0</td>\n",
       "      <td>180.866070</td>\n",
       "      <td>no</td>\n",
       "    </tr>\n",
       "    <tr>\n",
       "      <th>1</th>\n",
       "      <td>operations</td>\n",
       "      <td>0</td>\n",
       "      <td>0.751900</td>\n",
       "      <td>3</td>\n",
       "      <td>medium</td>\n",
       "      <td>6.0</td>\n",
       "      <td>0.443679</td>\n",
       "      <td>0</td>\n",
       "      <td>182.708149</td>\n",
       "      <td>no</td>\n",
       "    </tr>\n",
       "    <tr>\n",
       "      <th>2</th>\n",
       "      <td>support</td>\n",
       "      <td>0</td>\n",
       "      <td>0.722548</td>\n",
       "      <td>3</td>\n",
       "      <td>medium</td>\n",
       "      <td>6.0</td>\n",
       "      <td>0.446823</td>\n",
       "      <td>0</td>\n",
       "      <td>184.416084</td>\n",
       "      <td>no</td>\n",
       "    </tr>\n",
       "    <tr>\n",
       "      <th>3</th>\n",
       "      <td>logistics</td>\n",
       "      <td>0</td>\n",
       "      <td>0.675158</td>\n",
       "      <td>4</td>\n",
       "      <td>high</td>\n",
       "      <td>8.0</td>\n",
       "      <td>0.440139</td>\n",
       "      <td>0</td>\n",
       "      <td>188.707545</td>\n",
       "      <td>no</td>\n",
       "    </tr>\n",
       "    <tr>\n",
       "      <th>4</th>\n",
       "      <td>sales</td>\n",
       "      <td>0</td>\n",
       "      <td>0.676203</td>\n",
       "      <td>3</td>\n",
       "      <td>high</td>\n",
       "      <td>5.0</td>\n",
       "      <td>0.577607</td>\n",
       "      <td>1</td>\n",
       "      <td>179.821083</td>\n",
       "      <td>no</td>\n",
       "    </tr>\n",
       "  </tbody>\n",
       "</table>\n",
       "</div>"
      ],
      "text/plain": [
       "   department  promoted    review  projects  salary  tenure  satisfaction  \\\n",
       "0  operations         0  0.577569         3     low     5.0      0.626759   \n",
       "1  operations         0  0.751900         3  medium     6.0      0.443679   \n",
       "2     support         0  0.722548         3  medium     6.0      0.446823   \n",
       "3   logistics         0  0.675158         4    high     8.0      0.440139   \n",
       "4       sales         0  0.676203         3    high     5.0      0.577607   \n",
       "\n",
       "   bonus  avg_hrs_month left  \n",
       "0      0     180.866070   no  \n",
       "1      0     182.708149   no  \n",
       "2      0     184.416084   no  \n",
       "3      0     188.707545   no  \n",
       "4      1     179.821083   no  "
      ]
     },
     "execution_count": 2,
     "metadata": {},
     "output_type": "execute_result"
    }
   ],
   "source": [
    "empls = pd.read_csv('employee_churn_data.csv')\n",
    "empls.head()"
   ]
  },
  {
   "cell_type": "code",
   "execution_count": 3,
   "id": "044302fe",
   "metadata": {},
   "outputs": [
    {
     "data": {
      "text/html": [
       "<div>\n",
       "<style scoped>\n",
       "    .dataframe tbody tr th:only-of-type {\n",
       "        vertical-align: middle;\n",
       "    }\n",
       "\n",
       "    .dataframe tbody tr th {\n",
       "        vertical-align: top;\n",
       "    }\n",
       "\n",
       "    .dataframe thead th {\n",
       "        text-align: right;\n",
       "    }\n",
       "</style>\n",
       "<table border=\"1\" class=\"dataframe\">\n",
       "  <thead>\n",
       "    <tr style=\"text-align: right;\">\n",
       "      <th></th>\n",
       "      <th>department</th>\n",
       "      <th>promoted</th>\n",
       "      <th>review</th>\n",
       "      <th>projects</th>\n",
       "      <th>salary</th>\n",
       "      <th>tenure</th>\n",
       "      <th>satisfaction</th>\n",
       "      <th>bonus</th>\n",
       "      <th>avg_hrs_month</th>\n",
       "      <th>left</th>\n",
       "    </tr>\n",
       "  </thead>\n",
       "  <tbody>\n",
       "    <tr>\n",
       "      <th>0</th>\n",
       "      <td>operations</td>\n",
       "      <td>0</td>\n",
       "      <td>0.577569</td>\n",
       "      <td>3</td>\n",
       "      <td>0.0</td>\n",
       "      <td>5.0</td>\n",
       "      <td>0.626759</td>\n",
       "      <td>0</td>\n",
       "      <td>180.866070</td>\n",
       "      <td>0</td>\n",
       "    </tr>\n",
       "    <tr>\n",
       "      <th>1</th>\n",
       "      <td>operations</td>\n",
       "      <td>0</td>\n",
       "      <td>0.751900</td>\n",
       "      <td>3</td>\n",
       "      <td>0.5</td>\n",
       "      <td>6.0</td>\n",
       "      <td>0.443679</td>\n",
       "      <td>0</td>\n",
       "      <td>182.708149</td>\n",
       "      <td>0</td>\n",
       "    </tr>\n",
       "    <tr>\n",
       "      <th>2</th>\n",
       "      <td>support</td>\n",
       "      <td>0</td>\n",
       "      <td>0.722548</td>\n",
       "      <td>3</td>\n",
       "      <td>0.5</td>\n",
       "      <td>6.0</td>\n",
       "      <td>0.446823</td>\n",
       "      <td>0</td>\n",
       "      <td>184.416084</td>\n",
       "      <td>0</td>\n",
       "    </tr>\n",
       "    <tr>\n",
       "      <th>3</th>\n",
       "      <td>logistics</td>\n",
       "      <td>0</td>\n",
       "      <td>0.675158</td>\n",
       "      <td>4</td>\n",
       "      <td>1.0</td>\n",
       "      <td>8.0</td>\n",
       "      <td>0.440139</td>\n",
       "      <td>0</td>\n",
       "      <td>188.707545</td>\n",
       "      <td>0</td>\n",
       "    </tr>\n",
       "    <tr>\n",
       "      <th>4</th>\n",
       "      <td>sales</td>\n",
       "      <td>0</td>\n",
       "      <td>0.676203</td>\n",
       "      <td>3</td>\n",
       "      <td>1.0</td>\n",
       "      <td>5.0</td>\n",
       "      <td>0.577607</td>\n",
       "      <td>1</td>\n",
       "      <td>179.821083</td>\n",
       "      <td>0</td>\n",
       "    </tr>\n",
       "  </tbody>\n",
       "</table>\n",
       "</div>"
      ],
      "text/plain": [
       "   department  promoted    review  projects  salary  tenure  satisfaction  \\\n",
       "0  operations         0  0.577569         3     0.0     5.0      0.626759   \n",
       "1  operations         0  0.751900         3     0.5     6.0      0.443679   \n",
       "2     support         0  0.722548         3     0.5     6.0      0.446823   \n",
       "3   logistics         0  0.675158         4     1.0     8.0      0.440139   \n",
       "4       sales         0  0.676203         3     1.0     5.0      0.577607   \n",
       "\n",
       "   bonus  avg_hrs_month  left  \n",
       "0      0     180.866070     0  \n",
       "1      0     182.708149     0  \n",
       "2      0     184.416084     0  \n",
       "3      0     188.707545     0  \n",
       "4      1     179.821083     0  "
      ]
     },
     "execution_count": 3,
     "metadata": {},
     "output_type": "execute_result"
    }
   ],
   "source": [
    "empls.replace(['low', 'medium', 'high', 'no', 'yes'], [0, 0.5, 1, 0, 1], inplace=True)\n",
    "empls.head()"
   ]
  },
  {
   "cell_type": "code",
   "execution_count": 4,
   "id": "38033c63",
   "metadata": {},
   "outputs": [
    {
     "name": "stdout",
     "output_type": "stream",
     "text": [
      "<class 'pandas.core.frame.DataFrame'>\n",
      "RangeIndex: 9540 entries, 0 to 9539\n",
      "Data columns (total 10 columns):\n",
      " #   Column         Non-Null Count  Dtype  \n",
      "---  ------         --------------  -----  \n",
      " 0   department     9540 non-null   object \n",
      " 1   promoted       9540 non-null   int64  \n",
      " 2   review         9540 non-null   float64\n",
      " 3   projects       9540 non-null   int64  \n",
      " 4   salary         9540 non-null   float64\n",
      " 5   tenure         9540 non-null   float64\n",
      " 6   satisfaction   9540 non-null   float64\n",
      " 7   bonus          9540 non-null   int64  \n",
      " 8   avg_hrs_month  9540 non-null   float64\n",
      " 9   left           9540 non-null   int64  \n",
      "dtypes: float64(5), int64(4), object(1)\n",
      "memory usage: 745.4+ KB\n"
     ]
    }
   ],
   "source": [
    "empls.info()"
   ]
  },
  {
   "cell_type": "code",
   "execution_count": 5,
   "id": "0894b483",
   "metadata": {},
   "outputs": [
    {
     "data": {
      "text/plain": [
       "department       0\n",
       "promoted         0\n",
       "review           0\n",
       "projects         0\n",
       "salary           0\n",
       "tenure           0\n",
       "satisfaction     0\n",
       "bonus            0\n",
       "avg_hrs_month    0\n",
       "left             0\n",
       "dtype: int64"
      ]
     },
     "execution_count": 5,
     "metadata": {},
     "output_type": "execute_result"
    }
   ],
   "source": [
    "empls.isna().sum()"
   ]
  },
  {
   "cell_type": "code",
   "execution_count": 6,
   "id": "6631e435",
   "metadata": {},
   "outputs": [
    {
     "data": {
      "text/html": [
       "<div>\n",
       "<style scoped>\n",
       "    .dataframe tbody tr th:only-of-type {\n",
       "        vertical-align: middle;\n",
       "    }\n",
       "\n",
       "    .dataframe tbody tr th {\n",
       "        vertical-align: top;\n",
       "    }\n",
       "\n",
       "    .dataframe thead th {\n",
       "        text-align: right;\n",
       "    }\n",
       "</style>\n",
       "<table border=\"1\" class=\"dataframe\">\n",
       "  <thead>\n",
       "    <tr style=\"text-align: right;\">\n",
       "      <th></th>\n",
       "      <th>promoted</th>\n",
       "      <th>review</th>\n",
       "      <th>projects</th>\n",
       "      <th>salary</th>\n",
       "      <th>tenure</th>\n",
       "      <th>satisfaction</th>\n",
       "      <th>bonus</th>\n",
       "      <th>avg_hrs_month</th>\n",
       "      <th>left</th>\n",
       "    </tr>\n",
       "  </thead>\n",
       "  <tbody>\n",
       "    <tr>\n",
       "      <th>count</th>\n",
       "      <td>9540.000000</td>\n",
       "      <td>9540.000000</td>\n",
       "      <td>9540.000000</td>\n",
       "      <td>9540.000000</td>\n",
       "      <td>9540.000000</td>\n",
       "      <td>9540.000000</td>\n",
       "      <td>9540.000000</td>\n",
       "      <td>9540.000000</td>\n",
       "      <td>9540.000000</td>\n",
       "    </tr>\n",
       "    <tr>\n",
       "      <th>mean</th>\n",
       "      <td>0.030294</td>\n",
       "      <td>0.651826</td>\n",
       "      <td>3.274843</td>\n",
       "      <td>0.508753</td>\n",
       "      <td>6.556184</td>\n",
       "      <td>0.504645</td>\n",
       "      <td>0.212055</td>\n",
       "      <td>184.661571</td>\n",
       "      <td>0.291824</td>\n",
       "    </tr>\n",
       "    <tr>\n",
       "      <th>std</th>\n",
       "      <td>0.171403</td>\n",
       "      <td>0.085307</td>\n",
       "      <td>0.579136</td>\n",
       "      <td>0.276925</td>\n",
       "      <td>1.415432</td>\n",
       "      <td>0.158555</td>\n",
       "      <td>0.408785</td>\n",
       "      <td>4.144831</td>\n",
       "      <td>0.454626</td>\n",
       "    </tr>\n",
       "    <tr>\n",
       "      <th>min</th>\n",
       "      <td>0.000000</td>\n",
       "      <td>0.310000</td>\n",
       "      <td>2.000000</td>\n",
       "      <td>0.000000</td>\n",
       "      <td>2.000000</td>\n",
       "      <td>0.000000</td>\n",
       "      <td>0.000000</td>\n",
       "      <td>171.374060</td>\n",
       "      <td>0.000000</td>\n",
       "    </tr>\n",
       "    <tr>\n",
       "      <th>25%</th>\n",
       "      <td>0.000000</td>\n",
       "      <td>0.592884</td>\n",
       "      <td>3.000000</td>\n",
       "      <td>0.500000</td>\n",
       "      <td>5.000000</td>\n",
       "      <td>0.386801</td>\n",
       "      <td>0.000000</td>\n",
       "      <td>181.472085</td>\n",
       "      <td>0.000000</td>\n",
       "    </tr>\n",
       "    <tr>\n",
       "      <th>50%</th>\n",
       "      <td>0.000000</td>\n",
       "      <td>0.647456</td>\n",
       "      <td>3.000000</td>\n",
       "      <td>0.500000</td>\n",
       "      <td>7.000000</td>\n",
       "      <td>0.500786</td>\n",
       "      <td>0.000000</td>\n",
       "      <td>184.628796</td>\n",
       "      <td>0.000000</td>\n",
       "    </tr>\n",
       "    <tr>\n",
       "      <th>75%</th>\n",
       "      <td>0.000000</td>\n",
       "      <td>0.708379</td>\n",
       "      <td>4.000000</td>\n",
       "      <td>0.500000</td>\n",
       "      <td>8.000000</td>\n",
       "      <td>0.622607</td>\n",
       "      <td>0.000000</td>\n",
       "      <td>187.728708</td>\n",
       "      <td>1.000000</td>\n",
       "    </tr>\n",
       "    <tr>\n",
       "      <th>max</th>\n",
       "      <td>1.000000</td>\n",
       "      <td>1.000000</td>\n",
       "      <td>5.000000</td>\n",
       "      <td>1.000000</td>\n",
       "      <td>12.000000</td>\n",
       "      <td>1.000000</td>\n",
       "      <td>1.000000</td>\n",
       "      <td>200.861656</td>\n",
       "      <td>1.000000</td>\n",
       "    </tr>\n",
       "  </tbody>\n",
       "</table>\n",
       "</div>"
      ],
      "text/plain": [
       "          promoted       review     projects       salary       tenure  \\\n",
       "count  9540.000000  9540.000000  9540.000000  9540.000000  9540.000000   \n",
       "mean      0.030294     0.651826     3.274843     0.508753     6.556184   \n",
       "std       0.171403     0.085307     0.579136     0.276925     1.415432   \n",
       "min       0.000000     0.310000     2.000000     0.000000     2.000000   \n",
       "25%       0.000000     0.592884     3.000000     0.500000     5.000000   \n",
       "50%       0.000000     0.647456     3.000000     0.500000     7.000000   \n",
       "75%       0.000000     0.708379     4.000000     0.500000     8.000000   \n",
       "max       1.000000     1.000000     5.000000     1.000000    12.000000   \n",
       "\n",
       "       satisfaction        bonus  avg_hrs_month         left  \n",
       "count   9540.000000  9540.000000    9540.000000  9540.000000  \n",
       "mean       0.504645     0.212055     184.661571     0.291824  \n",
       "std        0.158555     0.408785       4.144831     0.454626  \n",
       "min        0.000000     0.000000     171.374060     0.000000  \n",
       "25%        0.386801     0.000000     181.472085     0.000000  \n",
       "50%        0.500786     0.000000     184.628796     0.000000  \n",
       "75%        0.622607     0.000000     187.728708     1.000000  \n",
       "max        1.000000     1.000000     200.861656     1.000000  "
      ]
     },
     "execution_count": 6,
     "metadata": {},
     "output_type": "execute_result"
    }
   ],
   "source": [
    "empls.describe()"
   ]
  },
  {
   "cell_type": "markdown",
   "id": "70ea2d82",
   "metadata": {},
   "source": [
    "Рассчитаем коэффициент текучести кадров для всей компании."
   ]
  },
  {
   "cell_type": "code",
   "execution_count": 7,
   "id": "0532a8a7",
   "metadata": {},
   "outputs": [
    {
     "name": "stdout",
     "output_type": "stream",
     "text": [
      "Коэффициент текучести кадров равен 29.18%\n"
     ]
    }
   ],
   "source": [
    "coef = empls['left'].value_counts(normalize=True)[1]\n",
    "print(f'Коэффициент текучести кадров равен {100 * coef:.2f}%')"
   ]
  },
  {
   "cell_type": "markdown",
   "id": "f8f604a4",
   "metadata": {},
   "source": [
    "В зависимости от отрасли и страны коэффициент текучести кадров ($К_{т}$) колеблется от 3 до 60%. Будем считать премлемым значением 10-15%. В нашей компании он выше 2,5 раза. Следует выяснить, по какой причине работники массово увольняются.\n",
    "Рассчитаем коэффициент для каждого департамента."
   ]
  },
  {
   "cell_type": "code",
   "execution_count": 8,
   "id": "15b593de",
   "metadata": {},
   "outputs": [
    {
     "data": {
      "text/html": [
       "<div>\n",
       "<style scoped>\n",
       "    .dataframe tbody tr th:only-of-type {\n",
       "        vertical-align: middle;\n",
       "    }\n",
       "\n",
       "    .dataframe tbody tr th {\n",
       "        vertical-align: top;\n",
       "    }\n",
       "\n",
       "    .dataframe thead th {\n",
       "        text-align: right;\n",
       "    }\n",
       "</style>\n",
       "<table border=\"1\" class=\"dataframe\">\n",
       "  <thead>\n",
       "    <tr style=\"text-align: right;\">\n",
       "      <th>left</th>\n",
       "      <th>working</th>\n",
       "      <th>quitted</th>\n",
       "    </tr>\n",
       "    <tr>\n",
       "      <th>department</th>\n",
       "      <th></th>\n",
       "      <th></th>\n",
       "    </tr>\n",
       "  </thead>\n",
       "  <tbody>\n",
       "    <tr>\n",
       "      <th>finance</th>\n",
       "      <td>73.13</td>\n",
       "      <td>26.87</td>\n",
       "    </tr>\n",
       "    <tr>\n",
       "      <th>admin</th>\n",
       "      <td>71.87</td>\n",
       "      <td>28.13</td>\n",
       "    </tr>\n",
       "    <tr>\n",
       "      <th>sales</th>\n",
       "      <td>71.48</td>\n",
       "      <td>28.52</td>\n",
       "    </tr>\n",
       "    <tr>\n",
       "      <th>operations</th>\n",
       "      <td>71.35</td>\n",
       "      <td>28.65</td>\n",
       "    </tr>\n",
       "    <tr>\n",
       "      <th>engineering</th>\n",
       "      <td>71.17</td>\n",
       "      <td>28.83</td>\n",
       "    </tr>\n",
       "    <tr>\n",
       "      <th>support</th>\n",
       "      <td>71.16</td>\n",
       "      <td>28.84</td>\n",
       "    </tr>\n",
       "    <tr>\n",
       "      <th>marketing</th>\n",
       "      <td>69.70</td>\n",
       "      <td>30.30</td>\n",
       "    </tr>\n",
       "    <tr>\n",
       "      <th>retail</th>\n",
       "      <td>69.44</td>\n",
       "      <td>30.56</td>\n",
       "    </tr>\n",
       "    <tr>\n",
       "      <th>logistics</th>\n",
       "      <td>69.17</td>\n",
       "      <td>30.83</td>\n",
       "    </tr>\n",
       "    <tr>\n",
       "      <th>IT</th>\n",
       "      <td>69.10</td>\n",
       "      <td>30.90</td>\n",
       "    </tr>\n",
       "  </tbody>\n",
       "</table>\n",
       "</div>"
      ],
      "text/plain": [
       "left         working  quitted\n",
       "department                   \n",
       "finance        73.13    26.87\n",
       "admin          71.87    28.13\n",
       "sales          71.48    28.52\n",
       "operations     71.35    28.65\n",
       "engineering    71.17    28.83\n",
       "support        71.16    28.84\n",
       "marketing      69.70    30.30\n",
       "retail         69.44    30.56\n",
       "logistics      69.17    30.83\n",
       "IT             69.10    30.90"
      ]
     },
     "execution_count": 8,
     "metadata": {},
     "output_type": "execute_result"
    }
   ],
   "source": [
    "coef_by_dep = empls.groupby('department')['left'].value_counts(normalize=True).unstack()\n",
    "for col in coef_by_dep.columns:\n",
    "    coef_by_dep[col] = round(coef_by_dep[col] * 100, 2)\n",
    "    \n",
    "coef_by_dep = coef_by_dep.sort_values(1)\n",
    "coef_by_dep = coef_by_dep.rename(columns={0:'working', 1:'quitted'})\n",
    "coef_by_dep"
   ]
  },
  {
   "cell_type": "code",
   "execution_count": 9,
   "id": "7ee1d307",
   "metadata": {},
   "outputs": [
    {
     "data": {
      "image/png": "[encoded data removed]",
      "text/plain": [
       "<Figure size 432x288 with 1 Axes>"
      ]
     },
     "metadata": {
      "needs_background": "light"
     },
     "output_type": "display_data"
    }
   ],
   "source": [
    "sns.barplot(x='department', y='quitted', data=coef_by_dep.reset_index(), palette='Blues_d')\n",
    "plt.xticks(rotation=45)\n",
    "plt.title('Уволившиеся сотрудники в отделах')\n",
    "plt.ylabel('Процент')\n",
    "plt.xlabel('Отдел')\n",
    "plt.show()"
   ]
  },
  {
   "cell_type": "markdown",
   "id": "653f918d",
   "metadata": {},
   "source": [
    "Процент уволившихся колеблется между 26.87% и 30.90% для каждого департамента. Самый высокий показатель у IT-подразделения (30.9%), — самый низкий — у отдела finance (26.87%). Можем сделать вывод, что во всех департаментах есть проблемы с кадрами.\n",
    "\n",
    "Посмотрим на таблицу корреляций."
   ]
  },
  {
   "cell_type": "code",
   "execution_count": 10,
   "id": "911c6ef6",
   "metadata": {
    "scrolled": false
   },
   "outputs": [
    {
     "data": {
      "image/png": "[encoded data removed]",
      "text/plain": [
       "<Figure size 864x720 with 2 Axes>"
      ]
     },
     "metadata": {
      "needs_background": "light"
     },
     "output_type": "display_data"
    }
   ],
   "source": [
    "correlation = empls.corr()\n",
    "fig, ax= plt.subplots(figsize=(12,10))\n",
    "sns.heatmap(data=correlation, annot=True, vmin=-1, vmax=1)\n",
    "\n",
    "plt.title('Таблица корреляций')\n",
    "plt.show()"
   ]
  },
  {
   "cell_type": "markdown",
   "id": "6f482f01",
   "metadata": {},
   "source": [
    "Заметим, что существуют линейные зависимости между следующими параметрами:\n",
    "* review и left: слабая положительная связь (0.3)\n",
    "* satisfaction и review: слабая отрицательная связь (-0.35)\n",
    "* tenure и avg_hrs_month: очень сильная положительная связь (0.98)"
   ]
  },
  {
   "cell_type": "markdown",
   "id": "7a91206e",
   "metadata": {},
   "source": [
    "Построим pairplot и попробуем найти какие-нибудь закономерности."
   ]
  },
  {
   "cell_type": "code",
   "execution_count": 11,
   "id": "a12504d5",
   "metadata": {
    "scrolled": false
   },
   "outputs": [
    {
     "data": {
      "image/png": "[encoded data removed]",
      "text/plain": [
       "<Figure size 762.375x720 with 20 Axes>"
      ]
     },
     "metadata": {
      "needs_background": "light"
     },
     "output_type": "display_data"
    }
   ],
   "source": [
    "empls_paired = empls[['review', 'tenure', 'satisfaction', 'avg_hrs_month', 'left']]\n",
    "sns.pairplot(data=empls_paired, hue='left', plot_kws={'alpha':0.5, 's':10})\n",
    "plt.show()"
   ]
  },
  {
   "cell_type": "markdown",
   "id": "db216a61",
   "metadata": {},
   "source": [
    "* Работники с большим стажем отрабатывают больше часов в месяц. \n",
    "* Доля уволившихся сотрудников выше в следующих категориях: стаж работы меньше 4 лет и стаж работы от 7 до 8 лет.\n",
    "* При превышении некоторого среднего числа отработанных часов удовлетворенность уволившихся сотрудников резко снижается. Но здесь также может играть роль сильная корреляция между стажем и кол-вом отработанных часов в месяц.  \n",
    "* Уволившиеся сотрудники с большей оценкой меньше удовлетворены."
   ]
  },
  {
   "cell_type": "markdown",
   "id": "df754e03",
   "metadata": {},
   "source": [
    "## Влияние стажа работы"
   ]
  },
  {
   "cell_type": "markdown",
   "id": "5830eabc",
   "metadata": {},
   "source": [
    "Посмотрим, как зависит $К_{т}$  от стажа работы"
   ]
  },
  {
   "cell_type": "code",
   "execution_count": 12,
   "id": "bfab4faf",
   "metadata": {},
   "outputs": [
    {
     "data": {
      "text/html": [
       "<div>\n",
       "<style scoped>\n",
       "    .dataframe tbody tr th:only-of-type {\n",
       "        vertical-align: middle;\n",
       "    }\n",
       "\n",
       "    .dataframe tbody tr th {\n",
       "        vertical-align: top;\n",
       "    }\n",
       "\n",
       "    .dataframe thead th {\n",
       "        text-align: right;\n",
       "    }\n",
       "</style>\n",
       "<table border=\"1\" class=\"dataframe\">\n",
       "  <thead>\n",
       "    <tr style=\"text-align: right;\">\n",
       "      <th></th>\n",
       "      <th>working</th>\n",
       "      <th>quitted</th>\n",
       "    </tr>\n",
       "    <tr>\n",
       "      <th>tenure</th>\n",
       "      <th></th>\n",
       "      <th></th>\n",
       "    </tr>\n",
       "  </thead>\n",
       "  <tbody>\n",
       "    <tr>\n",
       "      <th>2.0</th>\n",
       "      <td>1.0</td>\n",
       "      <td>2.0</td>\n",
       "    </tr>\n",
       "    <tr>\n",
       "      <th>3.0</th>\n",
       "      <td>27.0</td>\n",
       "      <td>30.0</td>\n",
       "    </tr>\n",
       "    <tr>\n",
       "      <th>4.0</th>\n",
       "      <td>332.0</td>\n",
       "      <td>186.0</td>\n",
       "    </tr>\n",
       "    <tr>\n",
       "      <th>5.0</th>\n",
       "      <td>1395.0</td>\n",
       "      <td>428.0</td>\n",
       "    </tr>\n",
       "    <tr>\n",
       "      <th>6.0</th>\n",
       "      <td>1835.0</td>\n",
       "      <td>478.0</td>\n",
       "    </tr>\n",
       "    <tr>\n",
       "      <th>7.0</th>\n",
       "      <td>1386.0</td>\n",
       "      <td>823.0</td>\n",
       "    </tr>\n",
       "    <tr>\n",
       "      <th>8.0</th>\n",
       "      <td>1065.0</td>\n",
       "      <td>823.0</td>\n",
       "    </tr>\n",
       "    <tr>\n",
       "      <th>9.0</th>\n",
       "      <td>564.0</td>\n",
       "      <td>14.0</td>\n",
       "    </tr>\n",
       "    <tr>\n",
       "      <th>10.0</th>\n",
       "      <td>127.0</td>\n",
       "      <td>0.0</td>\n",
       "    </tr>\n",
       "    <tr>\n",
       "      <th>11.0</th>\n",
       "      <td>23.0</td>\n",
       "      <td>0.0</td>\n",
       "    </tr>\n",
       "    <tr>\n",
       "      <th>12.0</th>\n",
       "      <td>1.0</td>\n",
       "      <td>0.0</td>\n",
       "    </tr>\n",
       "  </tbody>\n",
       "</table>\n",
       "</div>"
      ],
      "text/plain": [
       "        working  quitted\n",
       "tenure                  \n",
       "2.0         1.0      2.0\n",
       "3.0        27.0     30.0\n",
       "4.0       332.0    186.0\n",
       "5.0      1395.0    428.0\n",
       "6.0      1835.0    478.0\n",
       "7.0      1386.0    823.0\n",
       "8.0      1065.0    823.0\n",
       "9.0       564.0     14.0\n",
       "10.0      127.0      0.0\n",
       "11.0       23.0      0.0\n",
       "12.0        1.0      0.0"
      ]
     },
     "execution_count": 12,
     "metadata": {},
     "output_type": "execute_result"
    }
   ],
   "source": [
    "tenure = empls.groupby('tenure')['left'].value_counts().unstack().replace(np.nan, 0)\n",
    "tenure.columns = ['working', 'quitted']\n",
    "tenure"
   ]
  },
  {
   "cell_type": "code",
   "execution_count": 13,
   "id": "a2b4a392",
   "metadata": {},
   "outputs": [
    {
     "data": {
      "image/png": "[encoded data removed]",
      "text/plain": [
       "<Figure size 432x288 with 1 Axes>"
      ]
     },
     "metadata": {
      "needs_background": "light"
     },
     "output_type": "display_data"
    }
   ],
   "source": [
    "sns.barplot(x='tenure', y='quitted', data=tenure.reset_index(), color='teal')\n",
    "\n",
    "plt.title('Число уволившихся сотрудников')\n",
    "plt.xlabel('Стаж')\n",
    "plt.ylabel('Количество работников')\n",
    "plt.show()"
   ]
  },
  {
   "cell_type": "code",
   "execution_count": 14,
   "id": "03e3158a",
   "metadata": {},
   "outputs": [
    {
     "name": "stdout",
     "output_type": "stream",
     "text": [
      "Коэффициент текучести в зависимости от выслуги лет\n"
     ]
    },
    {
     "data": {
      "text/html": [
       "<div>\n",
       "<style scoped>\n",
       "    .dataframe tbody tr th:only-of-type {\n",
       "        vertical-align: middle;\n",
       "    }\n",
       "\n",
       "    .dataframe tbody tr th {\n",
       "        vertical-align: top;\n",
       "    }\n",
       "\n",
       "    .dataframe thead th {\n",
       "        text-align: right;\n",
       "    }\n",
       "</style>\n",
       "<table border=\"1\" class=\"dataframe\">\n",
       "  <thead>\n",
       "    <tr style=\"text-align: right;\">\n",
       "      <th></th>\n",
       "      <th>quitted_coef</th>\n",
       "    </tr>\n",
       "    <tr>\n",
       "      <th>tenure</th>\n",
       "      <th></th>\n",
       "    </tr>\n",
       "  </thead>\n",
       "  <tbody>\n",
       "    <tr>\n",
       "      <th>2.0</th>\n",
       "      <td>66.67</td>\n",
       "    </tr>\n",
       "    <tr>\n",
       "      <th>3.0</th>\n",
       "      <td>52.63</td>\n",
       "    </tr>\n",
       "    <tr>\n",
       "      <th>4.0</th>\n",
       "      <td>35.91</td>\n",
       "    </tr>\n",
       "    <tr>\n",
       "      <th>5.0</th>\n",
       "      <td>23.48</td>\n",
       "    </tr>\n",
       "    <tr>\n",
       "      <th>6.0</th>\n",
       "      <td>20.67</td>\n",
       "    </tr>\n",
       "    <tr>\n",
       "      <th>7.0</th>\n",
       "      <td>37.26</td>\n",
       "    </tr>\n",
       "    <tr>\n",
       "      <th>8.0</th>\n",
       "      <td>43.59</td>\n",
       "    </tr>\n",
       "    <tr>\n",
       "      <th>9.0</th>\n",
       "      <td>2.42</td>\n",
       "    </tr>\n",
       "    <tr>\n",
       "      <th>10.0</th>\n",
       "      <td>0.00</td>\n",
       "    </tr>\n",
       "    <tr>\n",
       "      <th>11.0</th>\n",
       "      <td>0.00</td>\n",
       "    </tr>\n",
       "    <tr>\n",
       "      <th>12.0</th>\n",
       "      <td>0.00</td>\n",
       "    </tr>\n",
       "  </tbody>\n",
       "</table>\n",
       "</div>"
      ],
      "text/plain": [
       "        quitted_coef\n",
       "tenure              \n",
       "2.0            66.67\n",
       "3.0            52.63\n",
       "4.0            35.91\n",
       "5.0            23.48\n",
       "6.0            20.67\n",
       "7.0            37.26\n",
       "8.0            43.59\n",
       "9.0             2.42\n",
       "10.0            0.00\n",
       "11.0            0.00\n",
       "12.0            0.00"
      ]
     },
     "execution_count": 14,
     "metadata": {},
     "output_type": "execute_result"
    }
   ],
   "source": [
    "tenure_norm = empls.groupby('tenure')['left'].value_counts(normalize=True).unstack().replace(np.nan, 0)\n",
    "tenure_norm.columns = ['working_coeg', 'quitted_coef']\n",
    "for col in tenure_norm.columns:\n",
    "    tenure_norm[col] = round(tenure_norm[col] * 100, 2)\n",
    "\n",
    "print('Коэффициент текучести в зависимости от выслуги лет')\n",
    "tenure_norm[['quitted_coef']]"
   ]
  },
  {
   "cell_type": "markdown",
   "id": "6145d070",
   "metadata": {},
   "source": [
    "В первые три года работы увольняется больше половины сотрудников. \n",
    "<br>$К_{т}$ снижается среди работников со стажем от четырех до шести лет.\n",
    "<br>Однако доля уволившихся сотрудников возрастает, когда стаж работы приближается к 7-8 годам.\n",
    "<br>Сотрудники с наибольшим стажем (9-12 лет) имеют самый низкий коэффициент. "
   ]
  },
  {
   "cell_type": "markdown",
   "id": "d050cf76",
   "metadata": {},
   "source": [
    "Рассмотрим, как меняются показатели внутри этих групп"
   ]
  },
  {
   "cell_type": "code",
   "execution_count": 15,
   "id": "65e77981",
   "metadata": {},
   "outputs": [],
   "source": [
    "def grades(tenure):\n",
    "    if tenure <= 3:\n",
    "        return 'junior'\n",
    "    elif tenure <= 6:\n",
    "        return 'middle'\n",
    "    elif tenure <= 8:\n",
    "        return 'senior'\n",
    "    else:\n",
    "        return 'senior-pomidor'"
   ]
  },
  {
   "cell_type": "code",
   "execution_count": 16,
   "id": "16ab5a1f",
   "metadata": {},
   "outputs": [],
   "source": [
    "empls['grade'] = empls['tenure'].apply(grades)"
   ]
  },
  {
   "cell_type": "code",
   "execution_count": 17,
   "id": "13522a12",
   "metadata": {},
   "outputs": [
    {
     "data": {
      "text/plain": [
       "grade\n",
       "junior              60\n",
       "middle            4654\n",
       "senior            4097\n",
       "senior-pomidor     729\n",
       "dtype: int64"
      ]
     },
     "execution_count": 17,
     "metadata": {},
     "output_type": "execute_result"
    }
   ],
   "source": [
    "empls.groupby('grade').size()"
   ]
  },
  {
   "cell_type": "code",
   "execution_count": 18,
   "id": "30a5e746",
   "metadata": {},
   "outputs": [
    {
     "data": {
      "text/plain": [
       "grade\n",
       "junior            53.33\n",
       "middle            23.46\n",
       "senior            40.18\n",
       "senior-pomidor     1.92\n",
       "Name: left, dtype: float64"
      ]
     },
     "execution_count": 18,
     "metadata": {},
     "output_type": "execute_result"
    }
   ],
   "source": [
    "grades_coef = round(empls.groupby('grade')['left'].mean() * 100, 2)\n",
    "grades_coef"
   ]
  },
  {
   "cell_type": "code",
   "execution_count": 19,
   "id": "ce8c0462",
   "metadata": {},
   "outputs": [
    {
     "data": {
      "text/html": [
       "<div>\n",
       "<style scoped>\n",
       "    .dataframe tbody tr th:only-of-type {\n",
       "        vertical-align: middle;\n",
       "    }\n",
       "\n",
       "    .dataframe tbody tr th {\n",
       "        vertical-align: top;\n",
       "    }\n",
       "\n",
       "    .dataframe thead th {\n",
       "        text-align: right;\n",
       "    }\n",
       "</style>\n",
       "<table border=\"1\" class=\"dataframe\">\n",
       "  <thead>\n",
       "    <tr style=\"text-align: right;\">\n",
       "      <th></th>\n",
       "      <th>working_coeg</th>\n",
       "      <th>quitted_coef</th>\n",
       "    </tr>\n",
       "    <tr>\n",
       "      <th>grade</th>\n",
       "      <th></th>\n",
       "      <th></th>\n",
       "    </tr>\n",
       "  </thead>\n",
       "  <tbody>\n",
       "    <tr>\n",
       "      <th>junior</th>\n",
       "      <td>46.67</td>\n",
       "      <td>53.33</td>\n",
       "    </tr>\n",
       "    <tr>\n",
       "      <th>middle</th>\n",
       "      <td>76.54</td>\n",
       "      <td>23.46</td>\n",
       "    </tr>\n",
       "    <tr>\n",
       "      <th>senior</th>\n",
       "      <td>59.82</td>\n",
       "      <td>40.18</td>\n",
       "    </tr>\n",
       "    <tr>\n",
       "      <th>senior-pomidor</th>\n",
       "      <td>98.08</td>\n",
       "      <td>1.92</td>\n",
       "    </tr>\n",
       "  </tbody>\n",
       "</table>\n",
       "</div>"
      ],
      "text/plain": [
       "                working_coeg  quitted_coef\n",
       "grade                                     \n",
       "junior                 46.67         53.33\n",
       "middle                 76.54         23.46\n",
       "senior                 59.82         40.18\n",
       "senior-pomidor         98.08          1.92"
      ]
     },
     "execution_count": 19,
     "metadata": {},
     "output_type": "execute_result"
    }
   ],
   "source": [
    "grades_coef = empls.groupby('grade')['left'].value_counts(normalize=True).unstack()\n",
    "grades_coef.columns = ['working_coeg', 'quitted_coef']\n",
    "for col in grades_coef.columns:\n",
    "    grades_coef[col] = round(grades_coef[col] * 100, 2)\n",
    "\n",
    "grades_coef"
   ]
  },
  {
   "cell_type": "code",
   "execution_count": 20,
   "id": "7c45ec71",
   "metadata": {},
   "outputs": [
    {
     "data": {
      "image/png": "[encoded data removed]",
      "text/plain": [
       "<Figure size 1008x576 with 1 Axes>"
      ]
     },
     "metadata": {
      "needs_background": "light"
     },
     "output_type": "display_data"
    }
   ],
   "source": [
    "fig, ax = plt.subplots(figsize=(14, 8))\n",
    "grades_coef.plot(kind='barh', stacked=True, ax=ax)\n",
    "plt.title('Изменение коэффициента текучести сотрудников', size=16)\n",
    "plt.show()"
   ]
  },
  {
   "cell_type": "code",
   "execution_count": 21,
   "id": "f03ac7bb",
   "metadata": {},
   "outputs": [],
   "source": [
    "junior = empls[empls['grade'] == 'junior']\n",
    "middle = empls[empls['grade'] == 'middle']\n",
    "senior = empls[empls['grade'] == 'senior']\n",
    "senior_pomidor = empls[empls['grade'] == 'senior-pomidor']"
   ]
  },
  {
   "cell_type": "code",
   "execution_count": 22,
   "id": "2ec7f04f",
   "metadata": {},
   "outputs": [],
   "source": [
    "def plots_by_grade(data, name):\n",
    "    fig, ax = plt.subplots(2, figsize=(12,8))\n",
    "    sns.histplot(x='satisfaction', data=data, hue='left', ax=ax[0], bins=20)\n",
    "    sns.histplot(x='review', data=data, hue='left', ax=ax[1], bins=20)\n",
    "    plt.suptitle(f'Распределение параметров satisfaction и review для {name}', size=16)\n",
    "    plt.show()"
   ]
  },
  {
   "cell_type": "code",
   "execution_count": 23,
   "id": "f47c5570",
   "metadata": {},
   "outputs": [],
   "source": [
    "def heatmap_by_grade(data):\n",
    "    heat = data.groupby('left')[['satisfaction', 'review']].mean()\n",
    "    \n",
    "    sns.heatmap(heat, annot=True, vmin=0, vmax=1)\n",
    "    plt.title('Средние значения satisfaction и review')\n",
    "    plt.show()"
   ]
  },
  {
   "cell_type": "markdown",
   "id": "42f03c6a",
   "metadata": {},
   "source": [
    "## Сотрудники со стажем <4 лет ($К_{т}$ = 53%)"
   ]
  },
  {
   "cell_type": "code",
   "execution_count": 24,
   "id": "b6eaa333",
   "metadata": {},
   "outputs": [
    {
     "data": {
      "image/png": "[encoded data removed]",
      "text/plain": [
       "<Figure size 864x576 with 2 Axes>"
      ]
     },
     "metadata": {
      "needs_background": "light"
     },
     "output_type": "display_data"
    }
   ],
   "source": [
    "plots_by_grade(junior, 'junior')"
   ]
  },
  {
   "cell_type": "code",
   "execution_count": 25,
   "id": "ae65435c",
   "metadata": {},
   "outputs": [
    {
     "data": {
      "image/png": "[encoded data removed]",
      "text/plain": [
       "<Figure size 432x288 with 2 Axes>"
      ]
     },
     "metadata": {
      "needs_background": "light"
     },
     "output_type": "display_data"
    }
   ],
   "source": [
    "heatmap_by_grade(junior)"
   ]
  },
  {
   "cell_type": "code",
   "execution_count": 26,
   "id": "e96b802d",
   "metadata": {},
   "outputs": [],
   "source": [
    "params = ['promoted', 'review', 'salary', 'satisfaction', 'bonus']\n",
    "cont = ['review', 'satisfaction']\n",
    "nomin = ['promoted', 'salary', 'bonus']"
   ]
  },
  {
   "cell_type": "code",
   "execution_count": 27,
   "id": "a3eee3f9",
   "metadata": {},
   "outputs": [
    {
     "data": {
      "text/html": [
       "<div>\n",
       "<style scoped>\n",
       "    .dataframe tbody tr th:only-of-type {\n",
       "        vertical-align: middle;\n",
       "    }\n",
       "\n",
       "    .dataframe tbody tr th {\n",
       "        vertical-align: top;\n",
       "    }\n",
       "\n",
       "    .dataframe thead th {\n",
       "        text-align: right;\n",
       "    }\n",
       "</style>\n",
       "<table border=\"1\" class=\"dataframe\">\n",
       "  <thead>\n",
       "    <tr style=\"text-align: right;\">\n",
       "      <th></th>\n",
       "      <th>promoted</th>\n",
       "      <th>review</th>\n",
       "      <th>salary</th>\n",
       "      <th>satisfaction</th>\n",
       "      <th>bonus</th>\n",
       "    </tr>\n",
       "    <tr>\n",
       "      <th>left</th>\n",
       "      <th></th>\n",
       "      <th></th>\n",
       "      <th></th>\n",
       "      <th></th>\n",
       "      <th></th>\n",
       "    </tr>\n",
       "  </thead>\n",
       "  <tbody>\n",
       "    <tr>\n",
       "      <th>0</th>\n",
       "      <td>0.035714</td>\n",
       "      <td>0.631720</td>\n",
       "      <td>0.50000</td>\n",
       "      <td>0.706088</td>\n",
       "      <td>0.178571</td>\n",
       "    </tr>\n",
       "    <tr>\n",
       "      <th>1</th>\n",
       "      <td>0.031250</td>\n",
       "      <td>0.841631</td>\n",
       "      <td>0.53125</td>\n",
       "      <td>0.489846</td>\n",
       "      <td>0.156250</td>\n",
       "    </tr>\n",
       "  </tbody>\n",
       "</table>\n",
       "</div>"
      ],
      "text/plain": [
       "      promoted    review   salary  satisfaction     bonus\n",
       "left                                                     \n",
       "0     0.035714  0.631720  0.50000      0.706088  0.178571\n",
       "1     0.031250  0.841631  0.53125      0.489846  0.156250"
      ]
     },
     "execution_count": 27,
     "metadata": {},
     "output_type": "execute_result"
    }
   ],
   "source": [
    "junior.groupby('left')[params].mean()"
   ]
  },
  {
   "cell_type": "code",
   "execution_count": 28,
   "id": "5c7cd9a4",
   "metadata": {},
   "outputs": [
    {
     "data": {
      "text/plain": [
       "1    32\n",
       "0    28\n",
       "Name: left, dtype: int64"
      ]
     },
     "execution_count": 28,
     "metadata": {},
     "output_type": "execute_result"
    }
   ],
   "source": [
    "junior['left'].value_counts()"
   ]
  },
  {
   "cell_type": "markdown",
   "id": "448cddeb",
   "metadata": {},
   "source": [
    "Поскольку размеры выборок малы, воспользуемся критерием Манна-Уитни (review, satisfaction).\n",
    "Для параметров bonus и promoted будем использовать точный критерий Фишера.\n",
    "<br>Нулевая гипотеза: средние satisfaction для двух групп одинаковы. Альтернативная: $\\overline{s}_L - \\overline{s}_W < 0$.\n",
    "Уровень статистической значимости примем 0.05.\n",
    "<br>Нулевая гипотеза: средние review для двух групп одинаковы. Альтернативная: $\\overline{r}_L- \\overline{r}_W > 0$.\n",
    "Уровень статистической значимости примем 0.05."
   ]
  },
  {
   "cell_type": "code",
   "execution_count": 29,
   "id": "854ec757",
   "metadata": {},
   "outputs": [],
   "source": [
    "def check_hyp(p_value, a=0.05):\n",
    "    if p_value <= a:\n",
    "        print('Отклоняем нулевую гипотезу')\n",
    "    else:\n",
    "        print('Не удалось отклонить нулевую гипотезу')"
   ]
  },
  {
   "cell_type": "code",
   "execution_count": 30,
   "id": "b0a4fc71",
   "metadata": {},
   "outputs": [],
   "source": [
    "def mwu_sat_rev(data, alts):\n",
    "    left = data[data['left'] == 1]\n",
    "    work = data[data['left'] == 0]\n",
    "    for column, alt in alts.items():\n",
    "        s = pg.mwu(left[column], work[column], alternative=alt)\n",
    "        display(s)\n",
    "        p_val = s['p-val'][0]\n",
    "        print(f'p-value для параметра {column} = {p_val}')\n",
    "        check_hyp(p_val)"
   ]
  },
  {
   "cell_type": "code",
   "execution_count": 31,
   "id": "d83a5d84",
   "metadata": {},
   "outputs": [
    {
     "data": {
      "text/html": [
       "<div>\n",
       "<style scoped>\n",
       "    .dataframe tbody tr th:only-of-type {\n",
       "        vertical-align: middle;\n",
       "    }\n",
       "\n",
       "    .dataframe tbody tr th {\n",
       "        vertical-align: top;\n",
       "    }\n",
       "\n",
       "    .dataframe thead th {\n",
       "        text-align: right;\n",
       "    }\n",
       "</style>\n",
       "<table border=\"1\" class=\"dataframe\">\n",
       "  <thead>\n",
       "    <tr style=\"text-align: right;\">\n",
       "      <th></th>\n",
       "      <th>U-val</th>\n",
       "      <th>alternative</th>\n",
       "      <th>p-val</th>\n",
       "      <th>RBC</th>\n",
       "      <th>CLES</th>\n",
       "    </tr>\n",
       "  </thead>\n",
       "  <tbody>\n",
       "    <tr>\n",
       "      <th>MWU</th>\n",
       "      <td>81.0</td>\n",
       "      <td>less</td>\n",
       "      <td>2.808665e-08</td>\n",
       "      <td>0.819196</td>\n",
       "      <td>0.909598</td>\n",
       "    </tr>\n",
       "  </tbody>\n",
       "</table>\n",
       "</div>"
      ],
      "text/plain": [
       "     U-val alternative         p-val       RBC      CLES\n",
       "MWU   81.0        less  2.808665e-08  0.819196  0.909598"
      ]
     },
     "metadata": {},
     "output_type": "display_data"
    },
    {
     "name": "stdout",
     "output_type": "stream",
     "text": [
      "p-value для параметра satisfaction = 2.8086651029210444e-08\n",
      "Отклоняем нулевую гипотезу\n"
     ]
    },
    {
     "data": {
      "text/html": [
       "<div>\n",
       "<style scoped>\n",
       "    .dataframe tbody tr th:only-of-type {\n",
       "        vertical-align: middle;\n",
       "    }\n",
       "\n",
       "    .dataframe tbody tr th {\n",
       "        vertical-align: top;\n",
       "    }\n",
       "\n",
       "    .dataframe thead th {\n",
       "        text-align: right;\n",
       "    }\n",
       "</style>\n",
       "<table border=\"1\" class=\"dataframe\">\n",
       "  <thead>\n",
       "    <tr style=\"text-align: right;\">\n",
       "      <th></th>\n",
       "      <th>U-val</th>\n",
       "      <th>alternative</th>\n",
       "      <th>p-val</th>\n",
       "      <th>RBC</th>\n",
       "      <th>CLES</th>\n",
       "    </tr>\n",
       "  </thead>\n",
       "  <tbody>\n",
       "    <tr>\n",
       "      <th>MWU</th>\n",
       "      <td>896.0</td>\n",
       "      <td>greater</td>\n",
       "      <td>1.669567e-11</td>\n",
       "      <td>-1.0</td>\n",
       "      <td>1.0</td>\n",
       "    </tr>\n",
       "  </tbody>\n",
       "</table>\n",
       "</div>"
      ],
      "text/plain": [
       "     U-val alternative         p-val  RBC  CLES\n",
       "MWU  896.0     greater  1.669567e-11 -1.0   1.0"
      ]
     },
     "metadata": {},
     "output_type": "display_data"
    },
    {
     "name": "stdout",
     "output_type": "stream",
     "text": [
      "p-value для параметра review = 1.669567052687147e-11\n",
      "Отклоняем нулевую гипотезу\n"
     ]
    }
   ],
   "source": [
    "mwu_sat_rev(junior, {'satisfaction':'less', 'review':'greater'})"
   ]
  },
  {
   "cell_type": "markdown",
   "id": "e717aa2e",
   "metadata": {},
   "source": [
    "Нулевая гипотеза: распределения не отличаются от ожидаемых. Альтернативная гипотеза: распределение зависит от того, к какой группе принадлежит работник. Уровень статистической значимости = 0.05"
   ]
  },
  {
   "cell_type": "code",
   "execution_count": 32,
   "id": "fddf750d",
   "metadata": {},
   "outputs": [],
   "source": [
    "def fisher(data, *args):\n",
    "    for column in args:\n",
    "        df = data.groupby('left')[column].value_counts().unstack().replace(np.nan, 0)\n",
    "        display(df)\n",
    "        oddsr, p = scipy.stats.fisher_exact(df)\n",
    "        print(f'p-value для параметра {column} = {p}')\n",
    "        check_hyp(p)"
   ]
  },
  {
   "cell_type": "code",
   "execution_count": 33,
   "id": "d370390d",
   "metadata": {},
   "outputs": [
    {
     "data": {
      "text/html": [
       "<div>\n",
       "<style scoped>\n",
       "    .dataframe tbody tr th:only-of-type {\n",
       "        vertical-align: middle;\n",
       "    }\n",
       "\n",
       "    .dataframe tbody tr th {\n",
       "        vertical-align: top;\n",
       "    }\n",
       "\n",
       "    .dataframe thead th {\n",
       "        text-align: right;\n",
       "    }\n",
       "</style>\n",
       "<table border=\"1\" class=\"dataframe\">\n",
       "  <thead>\n",
       "    <tr style=\"text-align: right;\">\n",
       "      <th>bonus</th>\n",
       "      <th>0</th>\n",
       "      <th>1</th>\n",
       "    </tr>\n",
       "    <tr>\n",
       "      <th>left</th>\n",
       "      <th></th>\n",
       "      <th></th>\n",
       "    </tr>\n",
       "  </thead>\n",
       "  <tbody>\n",
       "    <tr>\n",
       "      <th>0</th>\n",
       "      <td>23</td>\n",
       "      <td>5</td>\n",
       "    </tr>\n",
       "    <tr>\n",
       "      <th>1</th>\n",
       "      <td>27</td>\n",
       "      <td>5</td>\n",
       "    </tr>\n",
       "  </tbody>\n",
       "</table>\n",
       "</div>"
      ],
      "text/plain": [
       "bonus   0  1\n",
       "left        \n",
       "0      23  5\n",
       "1      27  5"
      ]
     },
     "metadata": {},
     "output_type": "display_data"
    },
    {
     "name": "stdout",
     "output_type": "stream",
     "text": [
      "p-value для параметра bonus = 1.0\n",
      "Не удалось отклонить нулевую гипотезу\n"
     ]
    },
    {
     "data": {
      "text/html": [
       "<div>\n",
       "<style scoped>\n",
       "    .dataframe tbody tr th:only-of-type {\n",
       "        vertical-align: middle;\n",
       "    }\n",
       "\n",
       "    .dataframe tbody tr th {\n",
       "        vertical-align: top;\n",
       "    }\n",
       "\n",
       "    .dataframe thead th {\n",
       "        text-align: right;\n",
       "    }\n",
       "</style>\n",
       "<table border=\"1\" class=\"dataframe\">\n",
       "  <thead>\n",
       "    <tr style=\"text-align: right;\">\n",
       "      <th>promoted</th>\n",
       "      <th>0</th>\n",
       "      <th>1</th>\n",
       "    </tr>\n",
       "    <tr>\n",
       "      <th>left</th>\n",
       "      <th></th>\n",
       "      <th></th>\n",
       "    </tr>\n",
       "  </thead>\n",
       "  <tbody>\n",
       "    <tr>\n",
       "      <th>0</th>\n",
       "      <td>27</td>\n",
       "      <td>1</td>\n",
       "    </tr>\n",
       "    <tr>\n",
       "      <th>1</th>\n",
       "      <td>31</td>\n",
       "      <td>1</td>\n",
       "    </tr>\n",
       "  </tbody>\n",
       "</table>\n",
       "</div>"
      ],
      "text/plain": [
       "promoted   0  1\n",
       "left           \n",
       "0         27  1\n",
       "1         31  1"
      ]
     },
     "metadata": {},
     "output_type": "display_data"
    },
    {
     "name": "stdout",
     "output_type": "stream",
     "text": [
      "p-value для параметра promoted = 1.0\n",
      "Не удалось отклонить нулевую гипотезу\n"
     ]
    }
   ],
   "source": [
    "fisher(junior, 'bonus', 'promoted')"
   ]
  },
  {
   "cell_type": "markdown",
   "id": "2256b08a",
   "metadata": {},
   "source": [
    "Отклоняем нулевую гипотезу для двух критериев: satisfaction и review. В остальных случаях отвергнуть нулевую гипотезу нельзя.\n",
    "<br>**Вывод:** Начинающие специалисты увольняются, если их уровень удовлетворенности низкий, повышения и бонусы не оказывают такого влияния. При этом средняя оценка уволившихся новичков выше, чем у оставшихся в компании. Можем предположить, что для получения более высокого балла работнику приходится прикладывать намного больше усилий, что сказывается на желании продолжать сотрудничать с компанией."
   ]
  },
  {
   "cell_type": "markdown",
   "id": "f0e2011a",
   "metadata": {},
   "source": [
    "## Сотрудники со стажем 4-6 лет ($К_{т}$ = 23%)"
   ]
  },
  {
   "cell_type": "code",
   "execution_count": 34,
   "id": "e54ec7af",
   "metadata": {},
   "outputs": [
    {
     "data": {
      "image/png": "[encoded data removed]",
      "text/plain": [
       "<Figure size 864x576 with 2 Axes>"
      ]
     },
     "metadata": {
      "needs_background": "light"
     },
     "output_type": "display_data"
    }
   ],
   "source": [
    "plots_by_grade(middle, 'middle')"
   ]
  },
  {
   "cell_type": "code",
   "execution_count": 35,
   "id": "a0111231",
   "metadata": {},
   "outputs": [
    {
     "data": {
      "image/png": "[encoded data removed]",
      "text/plain": [
       "<Figure size 432x288 with 2 Axes>"
      ]
     },
     "metadata": {
      "needs_background": "light"
     },
     "output_type": "display_data"
    }
   ],
   "source": [
    "heatmap_by_grade(middle)"
   ]
  },
  {
   "cell_type": "code",
   "execution_count": 36,
   "id": "7f5de9c4",
   "metadata": {},
   "outputs": [
    {
     "data": {
      "text/html": [
       "<div>\n",
       "<style scoped>\n",
       "    .dataframe tbody tr th:only-of-type {\n",
       "        vertical-align: middle;\n",
       "    }\n",
       "\n",
       "    .dataframe tbody tr th {\n",
       "        vertical-align: top;\n",
       "    }\n",
       "\n",
       "    .dataframe thead th {\n",
       "        text-align: right;\n",
       "    }\n",
       "</style>\n",
       "<table border=\"1\" class=\"dataframe\">\n",
       "  <thead>\n",
       "    <tr style=\"text-align: right;\">\n",
       "      <th></th>\n",
       "      <th>promoted</th>\n",
       "      <th>review</th>\n",
       "      <th>salary</th>\n",
       "      <th>satisfaction</th>\n",
       "      <th>bonus</th>\n",
       "    </tr>\n",
       "    <tr>\n",
       "      <th>left</th>\n",
       "      <th></th>\n",
       "      <th></th>\n",
       "      <th></th>\n",
       "      <th></th>\n",
       "      <th></th>\n",
       "    </tr>\n",
       "  </thead>\n",
       "  <tbody>\n",
       "    <tr>\n",
       "      <th>0</th>\n",
       "      <td>0.036496</td>\n",
       "      <td>0.636768</td>\n",
       "      <td>0.507019</td>\n",
       "      <td>0.562241</td>\n",
       "      <td>0.212240</td>\n",
       "    </tr>\n",
       "    <tr>\n",
       "      <th>1</th>\n",
       "      <td>0.020147</td>\n",
       "      <td>0.764638</td>\n",
       "      <td>0.513278</td>\n",
       "      <td>0.405082</td>\n",
       "      <td>0.200549</td>\n",
       "    </tr>\n",
       "  </tbody>\n",
       "</table>\n",
       "</div>"
      ],
      "text/plain": [
       "      promoted    review    salary  satisfaction     bonus\n",
       "left                                                      \n",
       "0     0.036496  0.636768  0.507019      0.562241  0.212240\n",
       "1     0.020147  0.764638  0.513278      0.405082  0.200549"
      ]
     },
     "execution_count": 36,
     "metadata": {},
     "output_type": "execute_result"
    }
   ],
   "source": [
    "middle.groupby('left')[params].mean()"
   ]
  },
  {
   "cell_type": "code",
   "execution_count": 37,
   "id": "d0ea28a2",
   "metadata": {},
   "outputs": [
    {
     "data": {
      "text/plain": [
       "0    3562\n",
       "1    1092\n",
       "Name: left, dtype: int64"
      ]
     },
     "execution_count": 37,
     "metadata": {},
     "output_type": "execute_result"
    }
   ],
   "source": [
    "middle['left'].value_counts()"
   ]
  },
  {
   "cell_type": "code",
   "execution_count": 38,
   "id": "8a0792b5",
   "metadata": {},
   "outputs": [
    {
     "data": {
      "text/html": [
       "<div>\n",
       "<style scoped>\n",
       "    .dataframe tbody tr th:only-of-type {\n",
       "        vertical-align: middle;\n",
       "    }\n",
       "\n",
       "    .dataframe tbody tr th {\n",
       "        vertical-align: top;\n",
       "    }\n",
       "\n",
       "    .dataframe thead th {\n",
       "        text-align: right;\n",
       "    }\n",
       "</style>\n",
       "<table border=\"1\" class=\"dataframe\">\n",
       "  <thead>\n",
       "    <tr style=\"text-align: right;\">\n",
       "      <th>promoted</th>\n",
       "      <th>0</th>\n",
       "      <th>1</th>\n",
       "    </tr>\n",
       "    <tr>\n",
       "      <th>left</th>\n",
       "      <th></th>\n",
       "      <th></th>\n",
       "    </tr>\n",
       "  </thead>\n",
       "  <tbody>\n",
       "    <tr>\n",
       "      <th>0</th>\n",
       "      <td>3432</td>\n",
       "      <td>130</td>\n",
       "    </tr>\n",
       "    <tr>\n",
       "      <th>1</th>\n",
       "      <td>1070</td>\n",
       "      <td>22</td>\n",
       "    </tr>\n",
       "  </tbody>\n",
       "</table>\n",
       "</div>"
      ],
      "text/plain": [
       "promoted     0    1\n",
       "left               \n",
       "0         3432  130\n",
       "1         1070   22"
      ]
     },
     "metadata": {},
     "output_type": "display_data"
    },
    {
     "data": {
      "text/html": [
       "<div>\n",
       "<style scoped>\n",
       "    .dataframe tbody tr th:only-of-type {\n",
       "        vertical-align: middle;\n",
       "    }\n",
       "\n",
       "    .dataframe tbody tr th {\n",
       "        vertical-align: top;\n",
       "    }\n",
       "\n",
       "    .dataframe thead th {\n",
       "        text-align: right;\n",
       "    }\n",
       "</style>\n",
       "<table border=\"1\" class=\"dataframe\">\n",
       "  <thead>\n",
       "    <tr style=\"text-align: right;\">\n",
       "      <th>salary</th>\n",
       "      <th>0.0</th>\n",
       "      <th>0.5</th>\n",
       "      <th>1.0</th>\n",
       "    </tr>\n",
       "    <tr>\n",
       "      <th>left</th>\n",
       "      <th></th>\n",
       "      <th></th>\n",
       "      <th></th>\n",
       "    </tr>\n",
       "  </thead>\n",
       "  <tbody>\n",
       "    <tr>\n",
       "      <th>0</th>\n",
       "      <td>523</td>\n",
       "      <td>2466</td>\n",
       "      <td>573</td>\n",
       "    </tr>\n",
       "    <tr>\n",
       "      <th>1</th>\n",
       "      <td>150</td>\n",
       "      <td>763</td>\n",
       "      <td>179</td>\n",
       "    </tr>\n",
       "  </tbody>\n",
       "</table>\n",
       "</div>"
      ],
      "text/plain": [
       "salary  0.0   0.5  1.0\n",
       "left                  \n",
       "0       523  2466  573\n",
       "1       150   763  179"
      ]
     },
     "metadata": {},
     "output_type": "display_data"
    },
    {
     "data": {
      "text/html": [
       "<div>\n",
       "<style scoped>\n",
       "    .dataframe tbody tr th:only-of-type {\n",
       "        vertical-align: middle;\n",
       "    }\n",
       "\n",
       "    .dataframe tbody tr th {\n",
       "        vertical-align: top;\n",
       "    }\n",
       "\n",
       "    .dataframe thead th {\n",
       "        text-align: right;\n",
       "    }\n",
       "</style>\n",
       "<table border=\"1\" class=\"dataframe\">\n",
       "  <thead>\n",
       "    <tr style=\"text-align: right;\">\n",
       "      <th>bonus</th>\n",
       "      <th>0</th>\n",
       "      <th>1</th>\n",
       "    </tr>\n",
       "    <tr>\n",
       "      <th>left</th>\n",
       "      <th></th>\n",
       "      <th></th>\n",
       "    </tr>\n",
       "  </thead>\n",
       "  <tbody>\n",
       "    <tr>\n",
       "      <th>0</th>\n",
       "      <td>2806</td>\n",
       "      <td>756</td>\n",
       "    </tr>\n",
       "    <tr>\n",
       "      <th>1</th>\n",
       "      <td>873</td>\n",
       "      <td>219</td>\n",
       "    </tr>\n",
       "  </tbody>\n",
       "</table>\n",
       "</div>"
      ],
      "text/plain": [
       "bonus     0    1\n",
       "left            \n",
       "0      2806  756\n",
       "1       873  219"
      ]
     },
     "metadata": {},
     "output_type": "display_data"
    }
   ],
   "source": [
    "for col in nomin:\n",
    "    display(middle.groupby('left')[col].value_counts().unstack())"
   ]
  },
  {
   "cell_type": "markdown",
   "id": "7cfdba26",
   "metadata": {},
   "source": [
    "Поскольку объем выборок достаточно велик, можем проверить наши гипотезы с помощью t-test и критерия хи-квадрат.\n",
    "<br>Нулевая гипотеза: средние satisfaction для двух групп одинаковы. Альтернативная: $\\overline{s}_L - \\overline{s}_W < 0$.\n",
    "<br>Нулевая гипотеза: средние review для двух групп одинаковы. Альтернативная: $\\overline{r}_L - \\overline{r}_W > 0$.\n",
    "Уровень статистической значимости в обоих случаях примем 0.05"
   ]
  },
  {
   "cell_type": "code",
   "execution_count": 39,
   "id": "f6f18971",
   "metadata": {},
   "outputs": [],
   "source": [
    "def ttests_sat_rev(data, alts):\n",
    "    left = data[data['left'] == 1]\n",
    "    work = data[data['left'] == 0]\n",
    "    for column, alt in alts.items():\n",
    "        st, p = scipy.stats.ttest_ind(left[column], work[column], alternative = alt)\n",
    "        print(f'p-value для параметра {column} = {p}')\n",
    "        check_hyp(p)"
   ]
  },
  {
   "cell_type": "code",
   "execution_count": 40,
   "id": "81debee2",
   "metadata": {},
   "outputs": [
    {
     "name": "stdout",
     "output_type": "stream",
     "text": [
      "p-value для параметра satisfaction = 1.2908432987129605e-164\n",
      "Отклоняем нулевую гипотезу\n",
      "p-value для параметра review = 0.0\n",
      "Отклоняем нулевую гипотезу\n"
     ]
    }
   ],
   "source": [
    "ttests_sat_rev(middle, {'satisfaction':'less', 'review':'greater'})"
   ]
  },
  {
   "cell_type": "markdown",
   "id": "a44ffe9b",
   "metadata": {},
   "source": [
    "Нулевая гипотеза: распределения не отличаются от ожидаемых. Альтернативная гипотеза: распределение зависит от того, к какой группе принадлежит работник. Уровень статистической значимости = 0.05"
   ]
  },
  {
   "cell_type": "code",
   "execution_count": 41,
   "id": "791293cc",
   "metadata": {},
   "outputs": [],
   "source": [
    "def chi(data, *args):\n",
    "    for column in args:\n",
    "        df = data.groupby('left')[column].value_counts().unstack()\n",
    "        display(df)\n",
    "        chi2, p, dof, ex = scipy.stats.chi2_contingency(df)\n",
    "        print(f'p-value для параметра {column} = {p}')\n",
    "        check_hyp(p)"
   ]
  },
  {
   "cell_type": "code",
   "execution_count": 42,
   "id": "efa19a37",
   "metadata": {},
   "outputs": [
    {
     "data": {
      "text/html": [
       "<div>\n",
       "<style scoped>\n",
       "    .dataframe tbody tr th:only-of-type {\n",
       "        vertical-align: middle;\n",
       "    }\n",
       "\n",
       "    .dataframe tbody tr th {\n",
       "        vertical-align: top;\n",
       "    }\n",
       "\n",
       "    .dataframe thead th {\n",
       "        text-align: right;\n",
       "    }\n",
       "</style>\n",
       "<table border=\"1\" class=\"dataframe\">\n",
       "  <thead>\n",
       "    <tr style=\"text-align: right;\">\n",
       "      <th>promoted</th>\n",
       "      <th>0</th>\n",
       "      <th>1</th>\n",
       "    </tr>\n",
       "    <tr>\n",
       "      <th>left</th>\n",
       "      <th></th>\n",
       "      <th></th>\n",
       "    </tr>\n",
       "  </thead>\n",
       "  <tbody>\n",
       "    <tr>\n",
       "      <th>0</th>\n",
       "      <td>3432</td>\n",
       "      <td>130</td>\n",
       "    </tr>\n",
       "    <tr>\n",
       "      <th>1</th>\n",
       "      <td>1070</td>\n",
       "      <td>22</td>\n",
       "    </tr>\n",
       "  </tbody>\n",
       "</table>\n",
       "</div>"
      ],
      "text/plain": [
       "promoted     0    1\n",
       "left               \n",
       "0         3432  130\n",
       "1         1070   22"
      ]
     },
     "metadata": {},
     "output_type": "display_data"
    },
    {
     "name": "stdout",
     "output_type": "stream",
     "text": [
      "p-value для параметра promoted = 0.010408539014600775\n",
      "Отклоняем нулевую гипотезу\n"
     ]
    },
    {
     "data": {
      "text/html": [
       "<div>\n",
       "<style scoped>\n",
       "    .dataframe tbody tr th:only-of-type {\n",
       "        vertical-align: middle;\n",
       "    }\n",
       "\n",
       "    .dataframe tbody tr th {\n",
       "        vertical-align: top;\n",
       "    }\n",
       "\n",
       "    .dataframe thead th {\n",
       "        text-align: right;\n",
       "    }\n",
       "</style>\n",
       "<table border=\"1\" class=\"dataframe\">\n",
       "  <thead>\n",
       "    <tr style=\"text-align: right;\">\n",
       "      <th>salary</th>\n",
       "      <th>0.0</th>\n",
       "      <th>0.5</th>\n",
       "      <th>1.0</th>\n",
       "    </tr>\n",
       "    <tr>\n",
       "      <th>left</th>\n",
       "      <th></th>\n",
       "      <th></th>\n",
       "      <th></th>\n",
       "    </tr>\n",
       "  </thead>\n",
       "  <tbody>\n",
       "    <tr>\n",
       "      <th>0</th>\n",
       "      <td>523</td>\n",
       "      <td>2466</td>\n",
       "      <td>573</td>\n",
       "    </tr>\n",
       "    <tr>\n",
       "      <th>1</th>\n",
       "      <td>150</td>\n",
       "      <td>763</td>\n",
       "      <td>179</td>\n",
       "    </tr>\n",
       "  </tbody>\n",
       "</table>\n",
       "</div>"
      ],
      "text/plain": [
       "salary  0.0   0.5  1.0\n",
       "left                  \n",
       "0       523  2466  573\n",
       "1       150   763  179"
      ]
     },
     "metadata": {},
     "output_type": "display_data"
    },
    {
     "name": "stdout",
     "output_type": "stream",
     "text": [
      "p-value для параметра salary = 0.7350838860162336\n",
      "Не удалось отклонить нулевую гипотезу\n"
     ]
    },
    {
     "data": {
      "text/html": [
       "<div>\n",
       "<style scoped>\n",
       "    .dataframe tbody tr th:only-of-type {\n",
       "        vertical-align: middle;\n",
       "    }\n",
       "\n",
       "    .dataframe tbody tr th {\n",
       "        vertical-align: top;\n",
       "    }\n",
       "\n",
       "    .dataframe thead th {\n",
       "        text-align: right;\n",
       "    }\n",
       "</style>\n",
       "<table border=\"1\" class=\"dataframe\">\n",
       "  <thead>\n",
       "    <tr style=\"text-align: right;\">\n",
       "      <th>bonus</th>\n",
       "      <th>0</th>\n",
       "      <th>1</th>\n",
       "    </tr>\n",
       "    <tr>\n",
       "      <th>left</th>\n",
       "      <th></th>\n",
       "      <th></th>\n",
       "    </tr>\n",
       "  </thead>\n",
       "  <tbody>\n",
       "    <tr>\n",
       "      <th>0</th>\n",
       "      <td>2806</td>\n",
       "      <td>756</td>\n",
       "    </tr>\n",
       "    <tr>\n",
       "      <th>1</th>\n",
       "      <td>873</td>\n",
       "      <td>219</td>\n",
       "    </tr>\n",
       "  </tbody>\n",
       "</table>\n",
       "</div>"
      ],
      "text/plain": [
       "bonus     0    1\n",
       "left            \n",
       "0      2806  756\n",
       "1       873  219"
      ]
     },
     "metadata": {},
     "output_type": "display_data"
    },
    {
     "name": "stdout",
     "output_type": "stream",
     "text": [
      "p-value для параметра bonus = 0.43068386578618245\n",
      "Не удалось отклонить нулевую гипотезу\n"
     ]
    }
   ],
   "source": [
    "chi(middle, 'promoted', 'salary', 'bonus')"
   ]
  },
  {
   "cell_type": "markdown",
   "id": "f3f62550",
   "metadata": {},
   "source": [
    "**Вывод:** Сотрудники со стажем 4-6 лет увольняются, если их уровень удовлетворенности низкий. При этом их оценка, как и у начинающих работников, в среднем выше. Поэтому для этой группы также можем предположить, что для получения более высокого балла работнику приходится прикладывать намного больше усилий, что сказывается на желании продолжать сотрудничать с компанией.\n",
    "При отсутствии повышения они также склонны к тому, чтобы покинуть компанию."
   ]
  },
  {
   "cell_type": "markdown",
   "id": "8af921d5",
   "metadata": {},
   "source": [
    "## Сотрудники со стажем 7-8 лет ($K_т$ = 40%)"
   ]
  },
  {
   "cell_type": "code",
   "execution_count": 43,
   "id": "8bc150cb",
   "metadata": {},
   "outputs": [
    {
     "data": {
      "image/png": "[encoded data removed]",
      "text/plain": [
       "<Figure size 864x576 with 2 Axes>"
      ]
     },
     "metadata": {
      "needs_background": "light"
     },
     "output_type": "display_data"
    }
   ],
   "source": [
    "plots_by_grade(senior, 'senior')"
   ]
  },
  {
   "cell_type": "code",
   "execution_count": 44,
   "id": "0ad54ca9",
   "metadata": {},
   "outputs": [
    {
     "data": {
      "image/png": "[encoded data removed]",
      "text/plain": [
       "<Figure size 432x288 with 2 Axes>"
      ]
     },
     "metadata": {
      "needs_background": "light"
     },
     "output_type": "display_data"
    }
   ],
   "source": [
    "heatmap_by_grade(senior)"
   ]
  },
  {
   "cell_type": "code",
   "execution_count": 45,
   "id": "f9fa57af",
   "metadata": {
    "scrolled": true
   },
   "outputs": [
    {
     "data": {
      "text/html": [
       "<div>\n",
       "<style scoped>\n",
       "    .dataframe tbody tr th:only-of-type {\n",
       "        vertical-align: middle;\n",
       "    }\n",
       "\n",
       "    .dataframe tbody tr th {\n",
       "        vertical-align: top;\n",
       "    }\n",
       "\n",
       "    .dataframe thead th {\n",
       "        text-align: right;\n",
       "    }\n",
       "</style>\n",
       "<table border=\"1\" class=\"dataframe\">\n",
       "  <thead>\n",
       "    <tr style=\"text-align: right;\">\n",
       "      <th></th>\n",
       "      <th>promoted</th>\n",
       "      <th>review</th>\n",
       "      <th>salary</th>\n",
       "      <th>satisfaction</th>\n",
       "      <th>bonus</th>\n",
       "    </tr>\n",
       "    <tr>\n",
       "      <th>left</th>\n",
       "      <th></th>\n",
       "      <th></th>\n",
       "      <th></th>\n",
       "      <th></th>\n",
       "      <th></th>\n",
       "    </tr>\n",
       "  </thead>\n",
       "  <tbody>\n",
       "    <tr>\n",
       "      <th>0</th>\n",
       "      <td>0.028968</td>\n",
       "      <td>0.633392</td>\n",
       "      <td>0.505304</td>\n",
       "      <td>0.41827</td>\n",
       "      <td>0.223174</td>\n",
       "    </tr>\n",
       "    <tr>\n",
       "      <th>1</th>\n",
       "      <td>0.020656</td>\n",
       "      <td>0.641588</td>\n",
       "      <td>0.506379</td>\n",
       "      <td>0.56872</td>\n",
       "      <td>0.208384</td>\n",
       "    </tr>\n",
       "  </tbody>\n",
       "</table>\n",
       "</div>"
      ],
      "text/plain": [
       "      promoted    review    salary  satisfaction     bonus\n",
       "left                                                      \n",
       "0     0.028968  0.633392  0.505304       0.41827  0.223174\n",
       "1     0.020656  0.641588  0.506379       0.56872  0.208384"
      ]
     },
     "execution_count": 45,
     "metadata": {},
     "output_type": "execute_result"
    }
   ],
   "source": [
    "senior.groupby('left')[params].mean()"
   ]
  },
  {
   "cell_type": "code",
   "execution_count": 46,
   "id": "7b8a5583",
   "metadata": {},
   "outputs": [
    {
     "data": {
      "text/plain": [
       "0    2451\n",
       "1    1646\n",
       "Name: left, dtype: int64"
      ]
     },
     "execution_count": 46,
     "metadata": {},
     "output_type": "execute_result"
    }
   ],
   "source": [
    "senior['left'].value_counts()"
   ]
  },
  {
   "cell_type": "code",
   "execution_count": 47,
   "id": "d41c0753",
   "metadata": {},
   "outputs": [
    {
     "data": {
      "text/html": [
       "<div>\n",
       "<style scoped>\n",
       "    .dataframe tbody tr th:only-of-type {\n",
       "        vertical-align: middle;\n",
       "    }\n",
       "\n",
       "    .dataframe tbody tr th {\n",
       "        vertical-align: top;\n",
       "    }\n",
       "\n",
       "    .dataframe thead th {\n",
       "        text-align: right;\n",
       "    }\n",
       "</style>\n",
       "<table border=\"1\" class=\"dataframe\">\n",
       "  <thead>\n",
       "    <tr style=\"text-align: right;\">\n",
       "      <th>promoted</th>\n",
       "      <th>0</th>\n",
       "      <th>1</th>\n",
       "    </tr>\n",
       "    <tr>\n",
       "      <th>left</th>\n",
       "      <th></th>\n",
       "      <th></th>\n",
       "    </tr>\n",
       "  </thead>\n",
       "  <tbody>\n",
       "    <tr>\n",
       "      <th>0</th>\n",
       "      <td>2380</td>\n",
       "      <td>71</td>\n",
       "    </tr>\n",
       "    <tr>\n",
       "      <th>1</th>\n",
       "      <td>1612</td>\n",
       "      <td>34</td>\n",
       "    </tr>\n",
       "  </tbody>\n",
       "</table>\n",
       "</div>"
      ],
      "text/plain": [
       "promoted     0   1\n",
       "left              \n",
       "0         2380  71\n",
       "1         1612  34"
      ]
     },
     "metadata": {},
     "output_type": "display_data"
    },
    {
     "data": {
      "text/html": [
       "<div>\n",
       "<style scoped>\n",
       "    .dataframe tbody tr th:only-of-type {\n",
       "        vertical-align: middle;\n",
       "    }\n",
       "\n",
       "    .dataframe tbody tr th {\n",
       "        vertical-align: top;\n",
       "    }\n",
       "\n",
       "    .dataframe thead th {\n",
       "        text-align: right;\n",
       "    }\n",
       "</style>\n",
       "<table border=\"1\" class=\"dataframe\">\n",
       "  <thead>\n",
       "    <tr style=\"text-align: right;\">\n",
       "      <th>salary</th>\n",
       "      <th>0.0</th>\n",
       "      <th>0.5</th>\n",
       "      <th>1.0</th>\n",
       "    </tr>\n",
       "    <tr>\n",
       "      <th>left</th>\n",
       "      <th></th>\n",
       "      <th></th>\n",
       "      <th></th>\n",
       "    </tr>\n",
       "  </thead>\n",
       "  <tbody>\n",
       "    <tr>\n",
       "      <th>0</th>\n",
       "      <td>360</td>\n",
       "      <td>1705</td>\n",
       "      <td>386</td>\n",
       "    </tr>\n",
       "    <tr>\n",
       "      <th>1</th>\n",
       "      <td>235</td>\n",
       "      <td>1155</td>\n",
       "      <td>256</td>\n",
       "    </tr>\n",
       "  </tbody>\n",
       "</table>\n",
       "</div>"
      ],
      "text/plain": [
       "salary  0.0   0.5  1.0\n",
       "left                  \n",
       "0       360  1705  386\n",
       "1       235  1155  256"
      ]
     },
     "metadata": {},
     "output_type": "display_data"
    },
    {
     "data": {
      "text/html": [
       "<div>\n",
       "<style scoped>\n",
       "    .dataframe tbody tr th:only-of-type {\n",
       "        vertical-align: middle;\n",
       "    }\n",
       "\n",
       "    .dataframe tbody tr th {\n",
       "        vertical-align: top;\n",
       "    }\n",
       "\n",
       "    .dataframe thead th {\n",
       "        text-align: right;\n",
       "    }\n",
       "</style>\n",
       "<table border=\"1\" class=\"dataframe\">\n",
       "  <thead>\n",
       "    <tr style=\"text-align: right;\">\n",
       "      <th>bonus</th>\n",
       "      <th>0</th>\n",
       "      <th>1</th>\n",
       "    </tr>\n",
       "    <tr>\n",
       "      <th>left</th>\n",
       "      <th></th>\n",
       "      <th></th>\n",
       "    </tr>\n",
       "  </thead>\n",
       "  <tbody>\n",
       "    <tr>\n",
       "      <th>0</th>\n",
       "      <td>1904</td>\n",
       "      <td>547</td>\n",
       "    </tr>\n",
       "    <tr>\n",
       "      <th>1</th>\n",
       "      <td>1303</td>\n",
       "      <td>343</td>\n",
       "    </tr>\n",
       "  </tbody>\n",
       "</table>\n",
       "</div>"
      ],
      "text/plain": [
       "bonus     0    1\n",
       "left            \n",
       "0      1904  547\n",
       "1      1303  343"
      ]
     },
     "metadata": {},
     "output_type": "display_data"
    }
   ],
   "source": [
    "for col in nomin:\n",
    "    display(senior.groupby('left')[col].value_counts().unstack())"
   ]
  },
  {
   "cell_type": "code",
   "execution_count": 48,
   "id": "77ea4e29",
   "metadata": {},
   "outputs": [
    {
     "name": "stdout",
     "output_type": "stream",
     "text": [
      "p-value для параметра satisfaction = 3.6693911176519304e-264\n",
      "Отклоняем нулевую гипотезу\n",
      "p-value для параметра review = 0.00045387845361528526\n",
      "Отклоняем нулевую гипотезу\n"
     ]
    }
   ],
   "source": [
    "ttests_sat_rev(senior, {'satisfaction':'greater', 'review':'greater'})"
   ]
  },
  {
   "cell_type": "markdown",
   "id": "1d255a65",
   "metadata": {},
   "source": [
    "Нулевая гипотеза: распределения не отличаются от ожидаемых. Альтернативная гипотеза: распределение зависит от того, к какой группе принадлежит работник. Уровень статистической значимости = 0.05"
   ]
  },
  {
   "cell_type": "code",
   "execution_count": 49,
   "id": "127f3c0f",
   "metadata": {},
   "outputs": [
    {
     "data": {
      "text/html": [
       "<div>\n",
       "<style scoped>\n",
       "    .dataframe tbody tr th:only-of-type {\n",
       "        vertical-align: middle;\n",
       "    }\n",
       "\n",
       "    .dataframe tbody tr th {\n",
       "        vertical-align: top;\n",
       "    }\n",
       "\n",
       "    .dataframe thead th {\n",
       "        text-align: right;\n",
       "    }\n",
       "</style>\n",
       "<table border=\"1\" class=\"dataframe\">\n",
       "  <thead>\n",
       "    <tr style=\"text-align: right;\">\n",
       "      <th>promoted</th>\n",
       "      <th>0</th>\n",
       "      <th>1</th>\n",
       "    </tr>\n",
       "    <tr>\n",
       "      <th>left</th>\n",
       "      <th></th>\n",
       "      <th></th>\n",
       "    </tr>\n",
       "  </thead>\n",
       "  <tbody>\n",
       "    <tr>\n",
       "      <th>0</th>\n",
       "      <td>2380</td>\n",
       "      <td>71</td>\n",
       "    </tr>\n",
       "    <tr>\n",
       "      <th>1</th>\n",
       "      <td>1612</td>\n",
       "      <td>34</td>\n",
       "    </tr>\n",
       "  </tbody>\n",
       "</table>\n",
       "</div>"
      ],
      "text/plain": [
       "promoted     0   1\n",
       "left              \n",
       "0         2380  71\n",
       "1         1612  34"
      ]
     },
     "metadata": {},
     "output_type": "display_data"
    },
    {
     "name": "stdout",
     "output_type": "stream",
     "text": [
      "p-value для параметра promoted = 0.12122050566762853\n",
      "Не удалось отклонить нулевую гипотезу\n"
     ]
    },
    {
     "data": {
      "text/html": [
       "<div>\n",
       "<style scoped>\n",
       "    .dataframe tbody tr th:only-of-type {\n",
       "        vertical-align: middle;\n",
       "    }\n",
       "\n",
       "    .dataframe tbody tr th {\n",
       "        vertical-align: top;\n",
       "    }\n",
       "\n",
       "    .dataframe thead th {\n",
       "        text-align: right;\n",
       "    }\n",
       "</style>\n",
       "<table border=\"1\" class=\"dataframe\">\n",
       "  <thead>\n",
       "    <tr style=\"text-align: right;\">\n",
       "      <th>salary</th>\n",
       "      <th>0.0</th>\n",
       "      <th>0.5</th>\n",
       "      <th>1.0</th>\n",
       "    </tr>\n",
       "    <tr>\n",
       "      <th>left</th>\n",
       "      <th></th>\n",
       "      <th></th>\n",
       "      <th></th>\n",
       "    </tr>\n",
       "  </thead>\n",
       "  <tbody>\n",
       "    <tr>\n",
       "      <th>0</th>\n",
       "      <td>360</td>\n",
       "      <td>1705</td>\n",
       "      <td>386</td>\n",
       "    </tr>\n",
       "    <tr>\n",
       "      <th>1</th>\n",
       "      <td>235</td>\n",
       "      <td>1155</td>\n",
       "      <td>256</td>\n",
       "    </tr>\n",
       "  </tbody>\n",
       "</table>\n",
       "</div>"
      ],
      "text/plain": [
       "salary  0.0   0.5  1.0\n",
       "left                  \n",
       "0       360  1705  386\n",
       "1       235  1155  256"
      ]
     },
     "metadata": {},
     "output_type": "display_data"
    },
    {
     "name": "stdout",
     "output_type": "stream",
     "text": [
      "p-value для параметра salary = 0.9091624550116421\n",
      "Не удалось отклонить нулевую гипотезу\n"
     ]
    },
    {
     "data": {
      "text/html": [
       "<div>\n",
       "<style scoped>\n",
       "    .dataframe tbody tr th:only-of-type {\n",
       "        vertical-align: middle;\n",
       "    }\n",
       "\n",
       "    .dataframe tbody tr th {\n",
       "        vertical-align: top;\n",
       "    }\n",
       "\n",
       "    .dataframe thead th {\n",
       "        text-align: right;\n",
       "    }\n",
       "</style>\n",
       "<table border=\"1\" class=\"dataframe\">\n",
       "  <thead>\n",
       "    <tr style=\"text-align: right;\">\n",
       "      <th>bonus</th>\n",
       "      <th>0</th>\n",
       "      <th>1</th>\n",
       "    </tr>\n",
       "    <tr>\n",
       "      <th>left</th>\n",
       "      <th></th>\n",
       "      <th></th>\n",
       "    </tr>\n",
       "  </thead>\n",
       "  <tbody>\n",
       "    <tr>\n",
       "      <th>0</th>\n",
       "      <td>1904</td>\n",
       "      <td>547</td>\n",
       "    </tr>\n",
       "    <tr>\n",
       "      <th>1</th>\n",
       "      <td>1303</td>\n",
       "      <td>343</td>\n",
       "    </tr>\n",
       "  </tbody>\n",
       "</table>\n",
       "</div>"
      ],
      "text/plain": [
       "bonus     0    1\n",
       "left            \n",
       "0      1904  547\n",
       "1      1303  343"
      ]
     },
     "metadata": {},
     "output_type": "display_data"
    },
    {
     "name": "stdout",
     "output_type": "stream",
     "text": [
      "p-value для параметра bonus = 0.2770927743448929\n",
      "Не удалось отклонить нулевую гипотезу\n"
     ]
    }
   ],
   "source": [
    "chi(senior, 'promoted', 'salary', 'bonus')"
   ]
  },
  {
   "cell_type": "markdown",
   "id": "156027e2",
   "metadata": {},
   "source": [
    "Уволившиеся сотрудники в среднем были больше удовлетворены, чем оставшиеся работники. Их оценки также были выше, а различия в бонусах, повышениях и размерах зарплаты для этих двух групп не являются статистически значимыми.\n",
    "<br>Попробуем рассмотреть внутри этой группы каждый год работы в отдельности."
   ]
  },
  {
   "cell_type": "code",
   "execution_count": 50,
   "id": "31c32da7",
   "metadata": {},
   "outputs": [
    {
     "name": "stdout",
     "output_type": "stream",
     "text": [
      "Коэффициент текучести для работников со стажем 7 лет = 37.26%\n"
     ]
    }
   ],
   "source": [
    "seven_years = senior[senior['tenure'] == 7]\n",
    "print(f\"Коэффициент текучести для работников со стажем 7 лет = {100 * seven_years['left'].mean():.2f}%\")"
   ]
  },
  {
   "cell_type": "code",
   "execution_count": 51,
   "id": "0344bb86",
   "metadata": {},
   "outputs": [
    {
     "data": {
      "image/png": "[encoded data removed]",
      "text/plain": [
       "<Figure size 864x576 with 2 Axes>"
      ]
     },
     "metadata": {
      "needs_background": "light"
     },
     "output_type": "display_data"
    }
   ],
   "source": [
    "plots_by_grade(seven_years, 'seven years')"
   ]
  },
  {
   "cell_type": "code",
   "execution_count": 52,
   "id": "29451619",
   "metadata": {},
   "outputs": [
    {
     "data": {
      "image/png": "[encoded data removed]",
      "text/plain": [
       "<Figure size 864x576 with 1 Axes>"
      ]
     },
     "metadata": {
      "needs_background": "light"
     },
     "output_type": "display_data"
    }
   ],
   "source": [
    "plt.figure(figsize=(12,8))\n",
    "sns.histplot(x='avg_hrs_month', data=seven_years, hue='left')\n",
    "plt.xlabel('Часы')\n",
    "plt.title('Среднее количество часов среди сотрудников с опытом работы 7 лет')\n",
    "plt.show()"
   ]
  },
  {
   "cell_type": "code",
   "execution_count": 53,
   "id": "4e7c3516",
   "metadata": {},
   "outputs": [
    {
     "data": {
      "text/html": [
       "<div>\n",
       "<style scoped>\n",
       "    .dataframe tbody tr th:only-of-type {\n",
       "        vertical-align: middle;\n",
       "    }\n",
       "\n",
       "    .dataframe tbody tr th {\n",
       "        vertical-align: top;\n",
       "    }\n",
       "\n",
       "    .dataframe thead th {\n",
       "        text-align: right;\n",
       "    }\n",
       "</style>\n",
       "<table border=\"1\" class=\"dataframe\">\n",
       "  <thead>\n",
       "    <tr style=\"text-align: right;\">\n",
       "      <th></th>\n",
       "      <th>promoted</th>\n",
       "      <th>review</th>\n",
       "      <th>projects</th>\n",
       "      <th>salary</th>\n",
       "      <th>tenure</th>\n",
       "      <th>satisfaction</th>\n",
       "      <th>bonus</th>\n",
       "      <th>avg_hrs_month</th>\n",
       "    </tr>\n",
       "    <tr>\n",
       "      <th>left</th>\n",
       "      <th></th>\n",
       "      <th></th>\n",
       "      <th></th>\n",
       "      <th></th>\n",
       "      <th></th>\n",
       "      <th></th>\n",
       "      <th></th>\n",
       "      <th></th>\n",
       "    </tr>\n",
       "  </thead>\n",
       "  <tbody>\n",
       "    <tr>\n",
       "      <th>0</th>\n",
       "      <td>0.028860</td>\n",
       "      <td>0.63379</td>\n",
       "      <td>3.291486</td>\n",
       "      <td>0.504329</td>\n",
       "      <td>7.0</td>\n",
       "      <td>0.408793</td>\n",
       "      <td>0.227273</td>\n",
       "      <td>185.944884</td>\n",
       "    </tr>\n",
       "    <tr>\n",
       "      <th>1</th>\n",
       "      <td>0.020656</td>\n",
       "      <td>0.61453</td>\n",
       "      <td>3.243013</td>\n",
       "      <td>0.518226</td>\n",
       "      <td>7.0</td>\n",
       "      <td>0.604135</td>\n",
       "      <td>0.221142</td>\n",
       "      <td>186.531262</td>\n",
       "    </tr>\n",
       "  </tbody>\n",
       "</table>\n",
       "</div>"
      ],
      "text/plain": [
       "      promoted   review  projects    salary  tenure  satisfaction     bonus  \\\n",
       "left                                                                          \n",
       "0     0.028860  0.63379  3.291486  0.504329     7.0      0.408793  0.227273   \n",
       "1     0.020656  0.61453  3.243013  0.518226     7.0      0.604135  0.221142   \n",
       "\n",
       "      avg_hrs_month  \n",
       "left                 \n",
       "0        185.944884  \n",
       "1        186.531262  "
      ]
     },
     "execution_count": 53,
     "metadata": {},
     "output_type": "execute_result"
    }
   ],
   "source": [
    "seven_years.groupby('left').mean()"
   ]
  },
  {
   "cell_type": "markdown",
   "id": "ce9fa774",
   "metadata": {},
   "source": [
    "<br>Нулевая гипотеза: средние satisfaction для двух групп одинаковы. Альтернативная: $\\overline{s}_L - \\overline{s}_W > 0$.\n",
    "<br>Нулевая гипотеза: средние review для двух групп одинаковы. Альтернативная: $\\overline{r}_L - \\overline{r}_W < 0$.\n",
    "<br>Нулевая гипотеза: средние avg_hrs_month для двух групп одинаковы. Альтернативная: $\\overline{h}_L - \\overline{h}_W > 0$.\n",
    "Уровень статистической значимости во всех гипотезах 0.05"
   ]
  },
  {
   "cell_type": "code",
   "execution_count": 54,
   "id": "a12d7f79",
   "metadata": {},
   "outputs": [
    {
     "name": "stdout",
     "output_type": "stream",
     "text": [
      "p-value для параметра satisfaction = 1.024466675786222e-170\n",
      "Отклоняем нулевую гипотезу\n",
      "p-value для параметра review = 7.1001557418110475e-09\n",
      "Отклоняем нулевую гипотезу\n",
      "p-value для параметра avg_hrs_month = 3.974835310072238e-54\n",
      "Отклоняем нулевую гипотезу\n"
     ]
    }
   ],
   "source": [
    "ttests_sat_rev(seven_years, {'satisfaction':'greater', 'review':'less', 'avg_hrs_month':'greater'})"
   ]
  },
  {
   "cell_type": "code",
   "execution_count": 55,
   "id": "b8cc3d46",
   "metadata": {},
   "outputs": [
    {
     "data": {
      "text/html": [
       "<div>\n",
       "<style scoped>\n",
       "    .dataframe tbody tr th:only-of-type {\n",
       "        vertical-align: middle;\n",
       "    }\n",
       "\n",
       "    .dataframe tbody tr th {\n",
       "        vertical-align: top;\n",
       "    }\n",
       "\n",
       "    .dataframe thead th {\n",
       "        text-align: right;\n",
       "    }\n",
       "</style>\n",
       "<table border=\"1\" class=\"dataframe\">\n",
       "  <thead>\n",
       "    <tr style=\"text-align: right;\">\n",
       "      <th>promoted</th>\n",
       "      <th>0</th>\n",
       "      <th>1</th>\n",
       "    </tr>\n",
       "    <tr>\n",
       "      <th>left</th>\n",
       "      <th></th>\n",
       "      <th></th>\n",
       "    </tr>\n",
       "  </thead>\n",
       "  <tbody>\n",
       "    <tr>\n",
       "      <th>0</th>\n",
       "      <td>1346</td>\n",
       "      <td>40</td>\n",
       "    </tr>\n",
       "    <tr>\n",
       "      <th>1</th>\n",
       "      <td>806</td>\n",
       "      <td>17</td>\n",
       "    </tr>\n",
       "  </tbody>\n",
       "</table>\n",
       "</div>"
      ],
      "text/plain": [
       "promoted     0   1\n",
       "left              \n",
       "0         1346  40\n",
       "1          806  17"
      ]
     },
     "metadata": {},
     "output_type": "display_data"
    },
    {
     "data": {
      "text/html": [
       "<div>\n",
       "<style scoped>\n",
       "    .dataframe tbody tr th:only-of-type {\n",
       "        vertical-align: middle;\n",
       "    }\n",
       "\n",
       "    .dataframe tbody tr th {\n",
       "        vertical-align: top;\n",
       "    }\n",
       "\n",
       "    .dataframe thead th {\n",
       "        text-align: right;\n",
       "    }\n",
       "</style>\n",
       "<table border=\"1\" class=\"dataframe\">\n",
       "  <thead>\n",
       "    <tr style=\"text-align: right;\">\n",
       "      <th>salary</th>\n",
       "      <th>0.0</th>\n",
       "      <th>0.5</th>\n",
       "      <th>1.0</th>\n",
       "    </tr>\n",
       "    <tr>\n",
       "      <th>left</th>\n",
       "      <th></th>\n",
       "      <th></th>\n",
       "      <th></th>\n",
       "    </tr>\n",
       "  </thead>\n",
       "  <tbody>\n",
       "    <tr>\n",
       "      <th>0</th>\n",
       "      <td>209</td>\n",
       "      <td>956</td>\n",
       "      <td>221</td>\n",
       "    </tr>\n",
       "    <tr>\n",
       "      <th>1</th>\n",
       "      <td>104</td>\n",
       "      <td>585</td>\n",
       "      <td>134</td>\n",
       "    </tr>\n",
       "  </tbody>\n",
       "</table>\n",
       "</div>"
      ],
      "text/plain": [
       "salary  0.0  0.5  1.0\n",
       "left                 \n",
       "0       209  956  221\n",
       "1       104  585  134"
      ]
     },
     "metadata": {},
     "output_type": "display_data"
    },
    {
     "data": {
      "text/html": [
       "<div>\n",
       "<style scoped>\n",
       "    .dataframe tbody tr th:only-of-type {\n",
       "        vertical-align: middle;\n",
       "    }\n",
       "\n",
       "    .dataframe tbody tr th {\n",
       "        vertical-align: top;\n",
       "    }\n",
       "\n",
       "    .dataframe thead th {\n",
       "        text-align: right;\n",
       "    }\n",
       "</style>\n",
       "<table border=\"1\" class=\"dataframe\">\n",
       "  <thead>\n",
       "    <tr style=\"text-align: right;\">\n",
       "      <th>bonus</th>\n",
       "      <th>0</th>\n",
       "      <th>1</th>\n",
       "    </tr>\n",
       "    <tr>\n",
       "      <th>left</th>\n",
       "      <th></th>\n",
       "      <th></th>\n",
       "    </tr>\n",
       "  </thead>\n",
       "  <tbody>\n",
       "    <tr>\n",
       "      <th>0</th>\n",
       "      <td>1071</td>\n",
       "      <td>315</td>\n",
       "    </tr>\n",
       "    <tr>\n",
       "      <th>1</th>\n",
       "      <td>641</td>\n",
       "      <td>182</td>\n",
       "    </tr>\n",
       "  </tbody>\n",
       "</table>\n",
       "</div>"
      ],
      "text/plain": [
       "bonus     0    1\n",
       "left            \n",
       "0      1071  315\n",
       "1       641  182"
      ]
     },
     "metadata": {},
     "output_type": "display_data"
    }
   ],
   "source": [
    "for col in nomin:\n",
    "    display(seven_years.groupby('left')[col].value_counts().unstack())"
   ]
  },
  {
   "cell_type": "code",
   "execution_count": 56,
   "id": "88862c27",
   "metadata": {},
   "outputs": [
    {
     "data": {
      "text/html": [
       "<div>\n",
       "<style scoped>\n",
       "    .dataframe tbody tr th:only-of-type {\n",
       "        vertical-align: middle;\n",
       "    }\n",
       "\n",
       "    .dataframe tbody tr th {\n",
       "        vertical-align: top;\n",
       "    }\n",
       "\n",
       "    .dataframe thead th {\n",
       "        text-align: right;\n",
       "    }\n",
       "</style>\n",
       "<table border=\"1\" class=\"dataframe\">\n",
       "  <thead>\n",
       "    <tr style=\"text-align: right;\">\n",
       "      <th>promoted</th>\n",
       "      <th>0</th>\n",
       "      <th>1</th>\n",
       "    </tr>\n",
       "    <tr>\n",
       "      <th>left</th>\n",
       "      <th></th>\n",
       "      <th></th>\n",
       "    </tr>\n",
       "  </thead>\n",
       "  <tbody>\n",
       "    <tr>\n",
       "      <th>0</th>\n",
       "      <td>1346</td>\n",
       "      <td>40</td>\n",
       "    </tr>\n",
       "    <tr>\n",
       "      <th>1</th>\n",
       "      <td>806</td>\n",
       "      <td>17</td>\n",
       "    </tr>\n",
       "  </tbody>\n",
       "</table>\n",
       "</div>"
      ],
      "text/plain": [
       "promoted     0   1\n",
       "left              \n",
       "0         1346  40\n",
       "1          806  17"
      ]
     },
     "metadata": {},
     "output_type": "display_data"
    },
    {
     "name": "stdout",
     "output_type": "stream",
     "text": [
      "p-value для параметра promoted = 0.29971675792310715\n",
      "Не удалось отклонить нулевую гипотезу\n"
     ]
    },
    {
     "data": {
      "text/html": [
       "<div>\n",
       "<style scoped>\n",
       "    .dataframe tbody tr th:only-of-type {\n",
       "        vertical-align: middle;\n",
       "    }\n",
       "\n",
       "    .dataframe tbody tr th {\n",
       "        vertical-align: top;\n",
       "    }\n",
       "\n",
       "    .dataframe thead th {\n",
       "        text-align: right;\n",
       "    }\n",
       "</style>\n",
       "<table border=\"1\" class=\"dataframe\">\n",
       "  <thead>\n",
       "    <tr style=\"text-align: right;\">\n",
       "      <th>salary</th>\n",
       "      <th>0.0</th>\n",
       "      <th>0.5</th>\n",
       "      <th>1.0</th>\n",
       "    </tr>\n",
       "    <tr>\n",
       "      <th>left</th>\n",
       "      <th></th>\n",
       "      <th></th>\n",
       "      <th></th>\n",
       "    </tr>\n",
       "  </thead>\n",
       "  <tbody>\n",
       "    <tr>\n",
       "      <th>0</th>\n",
       "      <td>209</td>\n",
       "      <td>956</td>\n",
       "      <td>221</td>\n",
       "    </tr>\n",
       "    <tr>\n",
       "      <th>1</th>\n",
       "      <td>104</td>\n",
       "      <td>585</td>\n",
       "      <td>134</td>\n",
       "    </tr>\n",
       "  </tbody>\n",
       "</table>\n",
       "</div>"
      ],
      "text/plain": [
       "salary  0.0  0.5  1.0\n",
       "left                 \n",
       "0       209  956  221\n",
       "1       104  585  134"
      ]
     },
     "metadata": {},
     "output_type": "display_data"
    },
    {
     "name": "stdout",
     "output_type": "stream",
     "text": [
      "p-value для параметра salary = 0.2809490362902543\n",
      "Не удалось отклонить нулевую гипотезу\n"
     ]
    },
    {
     "data": {
      "text/html": [
       "<div>\n",
       "<style scoped>\n",
       "    .dataframe tbody tr th:only-of-type {\n",
       "        vertical-align: middle;\n",
       "    }\n",
       "\n",
       "    .dataframe tbody tr th {\n",
       "        vertical-align: top;\n",
       "    }\n",
       "\n",
       "    .dataframe thead th {\n",
       "        text-align: right;\n",
       "    }\n",
       "</style>\n",
       "<table border=\"1\" class=\"dataframe\">\n",
       "  <thead>\n",
       "    <tr style=\"text-align: right;\">\n",
       "      <th>bonus</th>\n",
       "      <th>0</th>\n",
       "      <th>1</th>\n",
       "    </tr>\n",
       "    <tr>\n",
       "      <th>left</th>\n",
       "      <th></th>\n",
       "      <th></th>\n",
       "    </tr>\n",
       "  </thead>\n",
       "  <tbody>\n",
       "    <tr>\n",
       "      <th>0</th>\n",
       "      <td>1071</td>\n",
       "      <td>315</td>\n",
       "    </tr>\n",
       "    <tr>\n",
       "      <th>1</th>\n",
       "      <td>641</td>\n",
       "      <td>182</td>\n",
       "    </tr>\n",
       "  </tbody>\n",
       "</table>\n",
       "</div>"
      ],
      "text/plain": [
       "bonus     0    1\n",
       "left            \n",
       "0      1071  315\n",
       "1       641  182"
      ]
     },
     "metadata": {},
     "output_type": "display_data"
    },
    {
     "name": "stdout",
     "output_type": "stream",
     "text": [
      "p-value для параметра bonus = 0.7787676570725047\n",
      "Не удалось отклонить нулевую гипотезу\n"
     ]
    },
    {
     "data": {
      "text/html": [
       "<div>\n",
       "<style scoped>\n",
       "    .dataframe tbody tr th:only-of-type {\n",
       "        vertical-align: middle;\n",
       "    }\n",
       "\n",
       "    .dataframe tbody tr th {\n",
       "        vertical-align: top;\n",
       "    }\n",
       "\n",
       "    .dataframe thead th {\n",
       "        text-align: right;\n",
       "    }\n",
       "</style>\n",
       "<table border=\"1\" class=\"dataframe\">\n",
       "  <thead>\n",
       "    <tr style=\"text-align: right;\">\n",
       "      <th>projects</th>\n",
       "      <th>2</th>\n",
       "      <th>3</th>\n",
       "      <th>4</th>\n",
       "      <th>5</th>\n",
       "    </tr>\n",
       "    <tr>\n",
       "      <th>left</th>\n",
       "      <th></th>\n",
       "      <th></th>\n",
       "      <th></th>\n",
       "      <th></th>\n",
       "    </tr>\n",
       "  </thead>\n",
       "  <tbody>\n",
       "    <tr>\n",
       "      <th>0</th>\n",
       "      <td>79</td>\n",
       "      <td>834</td>\n",
       "      <td>463</td>\n",
       "      <td>10</td>\n",
       "    </tr>\n",
       "    <tr>\n",
       "      <th>1</th>\n",
       "      <td>54</td>\n",
       "      <td>521</td>\n",
       "      <td>242</td>\n",
       "      <td>6</td>\n",
       "    </tr>\n",
       "  </tbody>\n",
       "</table>\n",
       "</div>"
      ],
      "text/plain": [
       "projects   2    3    4   5\n",
       "left                      \n",
       "0         79  834  463  10\n",
       "1         54  521  242   6"
      ]
     },
     "metadata": {},
     "output_type": "display_data"
    },
    {
     "name": "stdout",
     "output_type": "stream",
     "text": [
      "p-value для параметра projects = 0.25584711041931696\n",
      "Не удалось отклонить нулевую гипотезу\n"
     ]
    }
   ],
   "source": [
    "chi(seven_years, 'promoted', 'salary', 'bonus', 'projects')"
   ]
  },
  {
   "cell_type": "markdown",
   "id": "6be47570",
   "metadata": {},
   "source": [
    "Работники с опытом работы 7 лет, решившие покинуть компанию имеют больший уровень удовлетворенности, однако их средняя оценка ниже. Также они отрабатывают больше часов в месяц.\n",
    "<br>Компании следует отслеживать количество отработанных часов для снижения риска увольнения сотрудников."
   ]
  },
  {
   "cell_type": "code",
   "execution_count": 57,
   "id": "3620f708",
   "metadata": {},
   "outputs": [
    {
     "name": "stdout",
     "output_type": "stream",
     "text": [
      "Коэффициент текучести для работников со стажем 8 лет = 43.59%\n"
     ]
    }
   ],
   "source": [
    "eight_years = senior[senior['tenure'] == 8]\n",
    "print(f\"Коэффициент текучести для работников со стажем 8 лет = {100 * eight_years['left'].mean():.2f}%\")"
   ]
  },
  {
   "cell_type": "code",
   "execution_count": 58,
   "id": "4d8820ec",
   "metadata": {},
   "outputs": [
    {
     "data": {
      "image/png": "[encoded data removed]",
      "text/plain": [
       "<Figure size 864x576 with 2 Axes>"
      ]
     },
     "metadata": {
      "needs_background": "light"
     },
     "output_type": "display_data"
    }
   ],
   "source": [
    "plots_by_grade(eight_years, 'eight years')"
   ]
  },
  {
   "cell_type": "code",
   "execution_count": 59,
   "id": "cf1b49b1",
   "metadata": {},
   "outputs": [
    {
     "data": {
      "image/png": "[encoded data removed]",
      "text/plain": [
       "<Figure size 864x576 with 1 Axes>"
      ]
     },
     "metadata": {
      "needs_background": "light"
     },
     "output_type": "display_data"
    }
   ],
   "source": [
    "plt.figure(figsize=(12,8))\n",
    "sns.histplot(x='avg_hrs_month', data=eight_years, hue='left')\n",
    "plt.xlabel('Часы')\n",
    "plt.title('Среднее количество часов среди сотрудников с опытом работы 8 лет')\n",
    "plt.show()"
   ]
  },
  {
   "cell_type": "code",
   "execution_count": 60,
   "id": "c2792f4b",
   "metadata": {},
   "outputs": [
    {
     "data": {
      "text/html": [
       "<div>\n",
       "<style scoped>\n",
       "    .dataframe tbody tr th:only-of-type {\n",
       "        vertical-align: middle;\n",
       "    }\n",
       "\n",
       "    .dataframe tbody tr th {\n",
       "        vertical-align: top;\n",
       "    }\n",
       "\n",
       "    .dataframe thead th {\n",
       "        text-align: right;\n",
       "    }\n",
       "</style>\n",
       "<table border=\"1\" class=\"dataframe\">\n",
       "  <thead>\n",
       "    <tr style=\"text-align: right;\">\n",
       "      <th></th>\n",
       "      <th>promoted</th>\n",
       "      <th>review</th>\n",
       "      <th>projects</th>\n",
       "      <th>salary</th>\n",
       "      <th>tenure</th>\n",
       "      <th>satisfaction</th>\n",
       "      <th>bonus</th>\n",
       "      <th>avg_hrs_month</th>\n",
       "    </tr>\n",
       "    <tr>\n",
       "      <th>left</th>\n",
       "      <th></th>\n",
       "      <th></th>\n",
       "      <th></th>\n",
       "      <th></th>\n",
       "      <th></th>\n",
       "      <th></th>\n",
       "      <th></th>\n",
       "      <th></th>\n",
       "    </tr>\n",
       "  </thead>\n",
       "  <tbody>\n",
       "    <tr>\n",
       "      <th>0</th>\n",
       "      <td>0.029108</td>\n",
       "      <td>0.632873</td>\n",
       "      <td>3.284507</td>\n",
       "      <td>0.506573</td>\n",
       "      <td>8.0</td>\n",
       "      <td>0.430604</td>\n",
       "      <td>0.217840</td>\n",
       "      <td>188.905219</td>\n",
       "    </tr>\n",
       "    <tr>\n",
       "      <th>1</th>\n",
       "      <td>0.020656</td>\n",
       "      <td>0.668647</td>\n",
       "      <td>3.268530</td>\n",
       "      <td>0.494532</td>\n",
       "      <td>8.0</td>\n",
       "      <td>0.533306</td>\n",
       "      <td>0.195626</td>\n",
       "      <td>188.343330</td>\n",
       "    </tr>\n",
       "  </tbody>\n",
       "</table>\n",
       "</div>"
      ],
      "text/plain": [
       "      promoted    review  projects    salary  tenure  satisfaction     bonus  \\\n",
       "left                                                                           \n",
       "0     0.029108  0.632873  3.284507  0.506573     8.0      0.430604  0.217840   \n",
       "1     0.020656  0.668647  3.268530  0.494532     8.0      0.533306  0.195626   \n",
       "\n",
       "      avg_hrs_month  \n",
       "left                 \n",
       "0        188.905219  \n",
       "1        188.343330  "
      ]
     },
     "execution_count": 60,
     "metadata": {},
     "output_type": "execute_result"
    }
   ],
   "source": [
    "eight_years.groupby('left').mean()"
   ]
  },
  {
   "cell_type": "markdown",
   "id": "2d238c6e",
   "metadata": {},
   "source": [
    "<br>Нулевая гипотеза: средние satisfaction для двух групп одинаковы. Альтернативная: $\\overline{s}_L - \\overline{s}_W > 0$.\n",
    "<br>Нулевая гипотеза: средние review для двух групп одинаковы. Альтернативная: $\\overline{r}_L - \\overline{r}_W > 0$.\n",
    "<br>Нулевая гипотеза: средние avg_hrs_month для двух групп одинаковы. Альтернативная: $\\overline{h}_L - \\overline{h}_W < 0$.\n",
    "Уровень статистической значимости во всех гипотезах 0.05"
   ]
  },
  {
   "cell_type": "code",
   "execution_count": 61,
   "id": "0ed697fe",
   "metadata": {},
   "outputs": [
    {
     "name": "stdout",
     "output_type": "stream",
     "text": [
      "p-value для параметра satisfaction = 5.180949533074003e-112\n",
      "Отклоняем нулевую гипотезу\n",
      "p-value для параметра review = 4.80490756654856e-25\n",
      "Отклоняем нулевую гипотезу\n",
      "p-value для параметра avg_hrs_month = 8.590629167872119e-55\n",
      "Отклоняем нулевую гипотезу\n"
     ]
    }
   ],
   "source": [
    "ttests_sat_rev(eight_years, {'satisfaction':'greater', 'review':'greater', 'avg_hrs_month':'less'})"
   ]
  },
  {
   "cell_type": "code",
   "execution_count": 62,
   "id": "024f5ae8",
   "metadata": {},
   "outputs": [
    {
     "data": {
      "text/html": [
       "<div>\n",
       "<style scoped>\n",
       "    .dataframe tbody tr th:only-of-type {\n",
       "        vertical-align: middle;\n",
       "    }\n",
       "\n",
       "    .dataframe tbody tr th {\n",
       "        vertical-align: top;\n",
       "    }\n",
       "\n",
       "    .dataframe thead th {\n",
       "        text-align: right;\n",
       "    }\n",
       "</style>\n",
       "<table border=\"1\" class=\"dataframe\">\n",
       "  <thead>\n",
       "    <tr style=\"text-align: right;\">\n",
       "      <th>promoted</th>\n",
       "      <th>0</th>\n",
       "      <th>1</th>\n",
       "    </tr>\n",
       "    <tr>\n",
       "      <th>left</th>\n",
       "      <th></th>\n",
       "      <th></th>\n",
       "    </tr>\n",
       "  </thead>\n",
       "  <tbody>\n",
       "    <tr>\n",
       "      <th>0</th>\n",
       "      <td>1034</td>\n",
       "      <td>31</td>\n",
       "    </tr>\n",
       "    <tr>\n",
       "      <th>1</th>\n",
       "      <td>806</td>\n",
       "      <td>17</td>\n",
       "    </tr>\n",
       "  </tbody>\n",
       "</table>\n",
       "</div>"
      ],
      "text/plain": [
       "promoted     0   1\n",
       "left              \n",
       "0         1034  31\n",
       "1          806  17"
      ]
     },
     "metadata": {},
     "output_type": "display_data"
    },
    {
     "data": {
      "text/html": [
       "<div>\n",
       "<style scoped>\n",
       "    .dataframe tbody tr th:only-of-type {\n",
       "        vertical-align: middle;\n",
       "    }\n",
       "\n",
       "    .dataframe tbody tr th {\n",
       "        vertical-align: top;\n",
       "    }\n",
       "\n",
       "    .dataframe thead th {\n",
       "        text-align: right;\n",
       "    }\n",
       "</style>\n",
       "<table border=\"1\" class=\"dataframe\">\n",
       "  <thead>\n",
       "    <tr style=\"text-align: right;\">\n",
       "      <th>salary</th>\n",
       "      <th>0.0</th>\n",
       "      <th>0.5</th>\n",
       "      <th>1.0</th>\n",
       "    </tr>\n",
       "    <tr>\n",
       "      <th>left</th>\n",
       "      <th></th>\n",
       "      <th></th>\n",
       "      <th></th>\n",
       "    </tr>\n",
       "  </thead>\n",
       "  <tbody>\n",
       "    <tr>\n",
       "      <th>0</th>\n",
       "      <td>151</td>\n",
       "      <td>749</td>\n",
       "      <td>165</td>\n",
       "    </tr>\n",
       "    <tr>\n",
       "      <th>1</th>\n",
       "      <td>131</td>\n",
       "      <td>570</td>\n",
       "      <td>122</td>\n",
       "    </tr>\n",
       "  </tbody>\n",
       "</table>\n",
       "</div>"
      ],
      "text/plain": [
       "salary  0.0  0.5  1.0\n",
       "left                 \n",
       "0       151  749  165\n",
       "1       131  570  122"
      ]
     },
     "metadata": {},
     "output_type": "display_data"
    },
    {
     "data": {
      "text/html": [
       "<div>\n",
       "<style scoped>\n",
       "    .dataframe tbody tr th:only-of-type {\n",
       "        vertical-align: middle;\n",
       "    }\n",
       "\n",
       "    .dataframe tbody tr th {\n",
       "        vertical-align: top;\n",
       "    }\n",
       "\n",
       "    .dataframe thead th {\n",
       "        text-align: right;\n",
       "    }\n",
       "</style>\n",
       "<table border=\"1\" class=\"dataframe\">\n",
       "  <thead>\n",
       "    <tr style=\"text-align: right;\">\n",
       "      <th>bonus</th>\n",
       "      <th>0</th>\n",
       "      <th>1</th>\n",
       "    </tr>\n",
       "    <tr>\n",
       "      <th>left</th>\n",
       "      <th></th>\n",
       "      <th></th>\n",
       "    </tr>\n",
       "  </thead>\n",
       "  <tbody>\n",
       "    <tr>\n",
       "      <th>0</th>\n",
       "      <td>833</td>\n",
       "      <td>232</td>\n",
       "    </tr>\n",
       "    <tr>\n",
       "      <th>1</th>\n",
       "      <td>662</td>\n",
       "      <td>161</td>\n",
       "    </tr>\n",
       "  </tbody>\n",
       "</table>\n",
       "</div>"
      ],
      "text/plain": [
       "bonus    0    1\n",
       "left           \n",
       "0      833  232\n",
       "1      662  161"
      ]
     },
     "metadata": {},
     "output_type": "display_data"
    }
   ],
   "source": [
    "for col in nomin:\n",
    "    display(eight_years.groupby('left')[col].value_counts().unstack())"
   ]
  },
  {
   "cell_type": "code",
   "execution_count": 63,
   "id": "f4b983db",
   "metadata": {},
   "outputs": [
    {
     "data": {
      "text/html": [
       "<div>\n",
       "<style scoped>\n",
       "    .dataframe tbody tr th:only-of-type {\n",
       "        vertical-align: middle;\n",
       "    }\n",
       "\n",
       "    .dataframe tbody tr th {\n",
       "        vertical-align: top;\n",
       "    }\n",
       "\n",
       "    .dataframe thead th {\n",
       "        text-align: right;\n",
       "    }\n",
       "</style>\n",
       "<table border=\"1\" class=\"dataframe\">\n",
       "  <thead>\n",
       "    <tr style=\"text-align: right;\">\n",
       "      <th>promoted</th>\n",
       "      <th>0</th>\n",
       "      <th>1</th>\n",
       "    </tr>\n",
       "    <tr>\n",
       "      <th>left</th>\n",
       "      <th></th>\n",
       "      <th></th>\n",
       "    </tr>\n",
       "  </thead>\n",
       "  <tbody>\n",
       "    <tr>\n",
       "      <th>0</th>\n",
       "      <td>1034</td>\n",
       "      <td>31</td>\n",
       "    </tr>\n",
       "    <tr>\n",
       "      <th>1</th>\n",
       "      <td>806</td>\n",
       "      <td>17</td>\n",
       "    </tr>\n",
       "  </tbody>\n",
       "</table>\n",
       "</div>"
      ],
      "text/plain": [
       "promoted     0   1\n",
       "left              \n",
       "0         1034  31\n",
       "1          806  17"
      ]
     },
     "metadata": {},
     "output_type": "display_data"
    },
    {
     "name": "stdout",
     "output_type": "stream",
     "text": [
      "p-value для параметра promoted = 0.3127440740989415\n",
      "Не удалось отклонить нулевую гипотезу\n"
     ]
    },
    {
     "data": {
      "text/html": [
       "<div>\n",
       "<style scoped>\n",
       "    .dataframe tbody tr th:only-of-type {\n",
       "        vertical-align: middle;\n",
       "    }\n",
       "\n",
       "    .dataframe tbody tr th {\n",
       "        vertical-align: top;\n",
       "    }\n",
       "\n",
       "    .dataframe thead th {\n",
       "        text-align: right;\n",
       "    }\n",
       "</style>\n",
       "<table border=\"1\" class=\"dataframe\">\n",
       "  <thead>\n",
       "    <tr style=\"text-align: right;\">\n",
       "      <th>salary</th>\n",
       "      <th>0.0</th>\n",
       "      <th>0.5</th>\n",
       "      <th>1.0</th>\n",
       "    </tr>\n",
       "    <tr>\n",
       "      <th>left</th>\n",
       "      <th></th>\n",
       "      <th></th>\n",
       "      <th></th>\n",
       "    </tr>\n",
       "  </thead>\n",
       "  <tbody>\n",
       "    <tr>\n",
       "      <th>0</th>\n",
       "      <td>151</td>\n",
       "      <td>749</td>\n",
       "      <td>165</td>\n",
       "    </tr>\n",
       "    <tr>\n",
       "      <th>1</th>\n",
       "      <td>131</td>\n",
       "      <td>570</td>\n",
       "      <td>122</td>\n",
       "    </tr>\n",
       "  </tbody>\n",
       "</table>\n",
       "</div>"
      ],
      "text/plain": [
       "salary  0.0  0.5  1.0\n",
       "left                 \n",
       "0       151  749  165\n",
       "1       131  570  122"
      ]
     },
     "metadata": {},
     "output_type": "display_data"
    },
    {
     "name": "stdout",
     "output_type": "stream",
     "text": [
      "p-value для параметра salary = 0.561943783291728\n",
      "Не удалось отклонить нулевую гипотезу\n"
     ]
    },
    {
     "data": {
      "text/html": [
       "<div>\n",
       "<style scoped>\n",
       "    .dataframe tbody tr th:only-of-type {\n",
       "        vertical-align: middle;\n",
       "    }\n",
       "\n",
       "    .dataframe tbody tr th {\n",
       "        vertical-align: top;\n",
       "    }\n",
       "\n",
       "    .dataframe thead th {\n",
       "        text-align: right;\n",
       "    }\n",
       "</style>\n",
       "<table border=\"1\" class=\"dataframe\">\n",
       "  <thead>\n",
       "    <tr style=\"text-align: right;\">\n",
       "      <th>bonus</th>\n",
       "      <th>0</th>\n",
       "      <th>1</th>\n",
       "    </tr>\n",
       "    <tr>\n",
       "      <th>left</th>\n",
       "      <th></th>\n",
       "      <th></th>\n",
       "    </tr>\n",
       "  </thead>\n",
       "  <tbody>\n",
       "    <tr>\n",
       "      <th>0</th>\n",
       "      <td>833</td>\n",
       "      <td>232</td>\n",
       "    </tr>\n",
       "    <tr>\n",
       "      <th>1</th>\n",
       "      <td>662</td>\n",
       "      <td>161</td>\n",
       "    </tr>\n",
       "  </tbody>\n",
       "</table>\n",
       "</div>"
      ],
      "text/plain": [
       "bonus    0    1\n",
       "left           \n",
       "0      833  232\n",
       "1      662  161"
      ]
     },
     "metadata": {},
     "output_type": "display_data"
    },
    {
     "name": "stdout",
     "output_type": "stream",
     "text": [
      "p-value для параметра bonus = 0.26194851026028876\n",
      "Не удалось отклонить нулевую гипотезу\n"
     ]
    },
    {
     "data": {
      "text/html": [
       "<div>\n",
       "<style scoped>\n",
       "    .dataframe tbody tr th:only-of-type {\n",
       "        vertical-align: middle;\n",
       "    }\n",
       "\n",
       "    .dataframe tbody tr th {\n",
       "        vertical-align: top;\n",
       "    }\n",
       "\n",
       "    .dataframe thead th {\n",
       "        text-align: right;\n",
       "    }\n",
       "</style>\n",
       "<table border=\"1\" class=\"dataframe\">\n",
       "  <thead>\n",
       "    <tr style=\"text-align: right;\">\n",
       "      <th>projects</th>\n",
       "      <th>2</th>\n",
       "      <th>3</th>\n",
       "      <th>4</th>\n",
       "      <th>5</th>\n",
       "    </tr>\n",
       "    <tr>\n",
       "      <th>left</th>\n",
       "      <th></th>\n",
       "      <th></th>\n",
       "      <th></th>\n",
       "      <th></th>\n",
       "    </tr>\n",
       "  </thead>\n",
       "  <tbody>\n",
       "    <tr>\n",
       "      <th>0</th>\n",
       "      <td>55</td>\n",
       "      <td>659</td>\n",
       "      <td>344</td>\n",
       "      <td>7</td>\n",
       "    </tr>\n",
       "    <tr>\n",
       "      <th>1</th>\n",
       "      <td>52</td>\n",
       "      <td>502</td>\n",
       "      <td>265</td>\n",
       "      <td>4</td>\n",
       "    </tr>\n",
       "  </tbody>\n",
       "</table>\n",
       "</div>"
      ],
      "text/plain": [
       "projects   2    3    4  5\n",
       "left                     \n",
       "0         55  659  344  7\n",
       "1         52  502  265  4"
      ]
     },
     "metadata": {},
     "output_type": "display_data"
    },
    {
     "name": "stdout",
     "output_type": "stream",
     "text": [
      "p-value для параметра projects = 0.7091108917453042\n",
      "Не удалось отклонить нулевую гипотезу\n"
     ]
    }
   ],
   "source": [
    "chi(eight_years, 'promoted', 'salary', 'bonus', 'projects')"
   ]
  },
  {
   "cell_type": "markdown",
   "id": "18e50a00",
   "metadata": {},
   "source": [
    "Ушедшие сотрудники с опытом работы 8 лет в среднем получают более высокий балл за аттестацию и имеют больший уровень удовлетворения при меньшем количестве отработанных часов в месяц. \n",
    "<br> **Вывод:** По имеющимся данным не удалось выяснить, по какой причине в этой группе $К_т$ такой высокий.\n",
    "Т.к. большая часть уволившихся сотрудников имеют стаж 7-8 лет, необходимо дополнить наши данные и определить, какие еще параметры могут объяснить нам такой высокий коэффциент текучести (например, пол работника, его возраст, частые переработки, расширенные переменные salary и  satisfaction, взаимоотношения внутри коллектива и с руководством, последний уход в отпуск, наличие удаленного формата работы, семейное положение, наличие детей и др.)"
   ]
  },
  {
   "cell_type": "markdown",
   "id": "34052f0a",
   "metadata": {},
   "source": [
    "## Сотрудники со стажем 9+ лет ($K_т$ = 2%)"
   ]
  },
  {
   "cell_type": "code",
   "execution_count": 64,
   "id": "b0cbd57a",
   "metadata": {},
   "outputs": [
    {
     "data": {
      "image/png": "[encoded data removed]",
      "text/plain": [
       "<Figure size 864x576 with 2 Axes>"
      ]
     },
     "metadata": {
      "needs_background": "light"
     },
     "output_type": "display_data"
    }
   ],
   "source": [
    "plots_by_grade(senior_pomidor, 'senior-pomidor')"
   ]
  },
  {
   "cell_type": "code",
   "execution_count": 65,
   "id": "0efa20e9",
   "metadata": {},
   "outputs": [
    {
     "data": {
      "image/png": "[encoded data removed]",
      "text/plain": [
       "<Figure size 432x288 with 2 Axes>"
      ]
     },
     "metadata": {
      "needs_background": "light"
     },
     "output_type": "display_data"
    }
   ],
   "source": [
    "heatmap_by_grade(senior_pomidor)"
   ]
  },
  {
   "cell_type": "code",
   "execution_count": 66,
   "id": "d07eee87",
   "metadata": {
    "scrolled": true
   },
   "outputs": [
    {
     "data": {
      "text/html": [
       "<div>\n",
       "<style scoped>\n",
       "    .dataframe tbody tr th:only-of-type {\n",
       "        vertical-align: middle;\n",
       "    }\n",
       "\n",
       "    .dataframe tbody tr th {\n",
       "        vertical-align: top;\n",
       "    }\n",
       "\n",
       "    .dataframe thead th {\n",
       "        text-align: right;\n",
       "    }\n",
       "</style>\n",
       "<table border=\"1\" class=\"dataframe\">\n",
       "  <thead>\n",
       "    <tr style=\"text-align: right;\">\n",
       "      <th></th>\n",
       "      <th>promoted</th>\n",
       "      <th>review</th>\n",
       "      <th>projects</th>\n",
       "      <th>salary</th>\n",
       "      <th>tenure</th>\n",
       "      <th>satisfaction</th>\n",
       "      <th>bonus</th>\n",
       "      <th>avg_hrs_month</th>\n",
       "    </tr>\n",
       "    <tr>\n",
       "      <th>left</th>\n",
       "      <th></th>\n",
       "      <th></th>\n",
       "      <th></th>\n",
       "      <th></th>\n",
       "      <th></th>\n",
       "      <th></th>\n",
       "      <th></th>\n",
       "      <th></th>\n",
       "    </tr>\n",
       "  </thead>\n",
       "  <tbody>\n",
       "    <tr>\n",
       "      <th>0</th>\n",
       "      <td>0.041958</td>\n",
       "      <td>0.633379</td>\n",
       "      <td>3.324476</td>\n",
       "      <td>0.527972</td>\n",
       "      <td>9.246154</td>\n",
       "      <td>0.515260</td>\n",
       "      <td>0.202797</td>\n",
       "      <td>192.425734</td>\n",
       "    </tr>\n",
       "    <tr>\n",
       "      <th>1</th>\n",
       "      <td>0.000000</td>\n",
       "      <td>0.663276</td>\n",
       "      <td>3.071429</td>\n",
       "      <td>0.464286</td>\n",
       "      <td>9.000000</td>\n",
       "      <td>0.293466</td>\n",
       "      <td>0.214286</td>\n",
       "      <td>191.594086</td>\n",
       "    </tr>\n",
       "  </tbody>\n",
       "</table>\n",
       "</div>"
      ],
      "text/plain": [
       "      promoted    review  projects    salary    tenure  satisfaction  \\\n",
       "left                                                                   \n",
       "0     0.041958  0.633379  3.324476  0.527972  9.246154      0.515260   \n",
       "1     0.000000  0.663276  3.071429  0.464286  9.000000      0.293466   \n",
       "\n",
       "         bonus  avg_hrs_month  \n",
       "left                           \n",
       "0     0.202797     192.425734  \n",
       "1     0.214286     191.594086  "
      ]
     },
     "execution_count": 66,
     "metadata": {},
     "output_type": "execute_result"
    }
   ],
   "source": [
    "senior_pomidor.groupby('left').mean()"
   ]
  },
  {
   "cell_type": "code",
   "execution_count": 67,
   "id": "35c161fa",
   "metadata": {},
   "outputs": [
    {
     "data": {
      "text/plain": [
       "0    715\n",
       "1     14\n",
       "Name: left, dtype: int64"
      ]
     },
     "execution_count": 67,
     "metadata": {},
     "output_type": "execute_result"
    }
   ],
   "source": [
    "senior_pomidor['left'].value_counts()"
   ]
  },
  {
   "cell_type": "code",
   "execution_count": 68,
   "id": "7071a9e3",
   "metadata": {},
   "outputs": [
    {
     "data": {
      "text/html": [
       "<div>\n",
       "<style scoped>\n",
       "    .dataframe tbody tr th:only-of-type {\n",
       "        vertical-align: middle;\n",
       "    }\n",
       "\n",
       "    .dataframe tbody tr th {\n",
       "        vertical-align: top;\n",
       "    }\n",
       "\n",
       "    .dataframe thead th {\n",
       "        text-align: right;\n",
       "    }\n",
       "</style>\n",
       "<table border=\"1\" class=\"dataframe\">\n",
       "  <thead>\n",
       "    <tr style=\"text-align: right;\">\n",
       "      <th>promoted</th>\n",
       "      <th>0</th>\n",
       "      <th>1</th>\n",
       "    </tr>\n",
       "    <tr>\n",
       "      <th>left</th>\n",
       "      <th></th>\n",
       "      <th></th>\n",
       "    </tr>\n",
       "  </thead>\n",
       "  <tbody>\n",
       "    <tr>\n",
       "      <th>0</th>\n",
       "      <td>685.0</td>\n",
       "      <td>30.0</td>\n",
       "    </tr>\n",
       "    <tr>\n",
       "      <th>1</th>\n",
       "      <td>14.0</td>\n",
       "      <td>NaN</td>\n",
       "    </tr>\n",
       "  </tbody>\n",
       "</table>\n",
       "</div>"
      ],
      "text/plain": [
       "promoted      0     1\n",
       "left                 \n",
       "0         685.0  30.0\n",
       "1          14.0   NaN"
      ]
     },
     "metadata": {},
     "output_type": "display_data"
    },
    {
     "data": {
      "text/html": [
       "<div>\n",
       "<style scoped>\n",
       "    .dataframe tbody tr th:only-of-type {\n",
       "        vertical-align: middle;\n",
       "    }\n",
       "\n",
       "    .dataframe tbody tr th {\n",
       "        vertical-align: top;\n",
       "    }\n",
       "\n",
       "    .dataframe thead th {\n",
       "        text-align: right;\n",
       "    }\n",
       "</style>\n",
       "<table border=\"1\" class=\"dataframe\">\n",
       "  <thead>\n",
       "    <tr style=\"text-align: right;\">\n",
       "      <th>salary</th>\n",
       "      <th>0.0</th>\n",
       "      <th>0.5</th>\n",
       "      <th>1.0</th>\n",
       "    </tr>\n",
       "    <tr>\n",
       "      <th>left</th>\n",
       "      <th></th>\n",
       "      <th></th>\n",
       "      <th></th>\n",
       "    </tr>\n",
       "  </thead>\n",
       "  <tbody>\n",
       "    <tr>\n",
       "      <th>0</th>\n",
       "      <td>102</td>\n",
       "      <td>471</td>\n",
       "      <td>142</td>\n",
       "    </tr>\n",
       "    <tr>\n",
       "      <th>1</th>\n",
       "      <td>3</td>\n",
       "      <td>9</td>\n",
       "      <td>2</td>\n",
       "    </tr>\n",
       "  </tbody>\n",
       "</table>\n",
       "</div>"
      ],
      "text/plain": [
       "salary  0.0  0.5  1.0\n",
       "left                 \n",
       "0       102  471  142\n",
       "1         3    9    2"
      ]
     },
     "metadata": {},
     "output_type": "display_data"
    },
    {
     "data": {
      "text/html": [
       "<div>\n",
       "<style scoped>\n",
       "    .dataframe tbody tr th:only-of-type {\n",
       "        vertical-align: middle;\n",
       "    }\n",
       "\n",
       "    .dataframe tbody tr th {\n",
       "        vertical-align: top;\n",
       "    }\n",
       "\n",
       "    .dataframe thead th {\n",
       "        text-align: right;\n",
       "    }\n",
       "</style>\n",
       "<table border=\"1\" class=\"dataframe\">\n",
       "  <thead>\n",
       "    <tr style=\"text-align: right;\">\n",
       "      <th>bonus</th>\n",
       "      <th>0</th>\n",
       "      <th>1</th>\n",
       "    </tr>\n",
       "    <tr>\n",
       "      <th>left</th>\n",
       "      <th></th>\n",
       "      <th></th>\n",
       "    </tr>\n",
       "  </thead>\n",
       "  <tbody>\n",
       "    <tr>\n",
       "      <th>0</th>\n",
       "      <td>570</td>\n",
       "      <td>145</td>\n",
       "    </tr>\n",
       "    <tr>\n",
       "      <th>1</th>\n",
       "      <td>11</td>\n",
       "      <td>3</td>\n",
       "    </tr>\n",
       "  </tbody>\n",
       "</table>\n",
       "</div>"
      ],
      "text/plain": [
       "bonus    0    1\n",
       "left           \n",
       "0      570  145\n",
       "1       11    3"
      ]
     },
     "metadata": {},
     "output_type": "display_data"
    }
   ],
   "source": [
    "for col in nomin:\n",
    "    display(senior_pomidor.groupby('left')[col].value_counts().unstack())"
   ]
  },
  {
   "cell_type": "markdown",
   "id": "d456d981",
   "metadata": {},
   "source": [
    "Воспользуемся критерием Манна-Уитни (review, satisfaction).\n",
    "Для параметров bonus и promoted будем использовать точный критерий Фишера.\n",
    "<br>Нулевая гипотеза: средние satisfaction для двух групп одинаковы. Альтернативная: $\\overline{s}_L - \\overline{s}_W < 0$.\n",
    "Уровень статистической значимости примем 0.05.\n",
    "<br>Нулевая гипотеза: средние review для двух групп одинаковы. Альтернативная: $\\overline{r}_L- \\overline{r}_W > 0$.\n",
    "Уровень статистической значимости примем 0.05."
   ]
  },
  {
   "cell_type": "code",
   "execution_count": 69,
   "id": "065167be",
   "metadata": {},
   "outputs": [
    {
     "data": {
      "text/html": [
       "<div>\n",
       "<style scoped>\n",
       "    .dataframe tbody tr th:only-of-type {\n",
       "        vertical-align: middle;\n",
       "    }\n",
       "\n",
       "    .dataframe tbody tr th {\n",
       "        vertical-align: top;\n",
       "    }\n",
       "\n",
       "    .dataframe thead th {\n",
       "        text-align: right;\n",
       "    }\n",
       "</style>\n",
       "<table border=\"1\" class=\"dataframe\">\n",
       "  <thead>\n",
       "    <tr style=\"text-align: right;\">\n",
       "      <th></th>\n",
       "      <th>U-val</th>\n",
       "      <th>alternative</th>\n",
       "      <th>p-val</th>\n",
       "      <th>RBC</th>\n",
       "      <th>CLES</th>\n",
       "    </tr>\n",
       "  </thead>\n",
       "  <tbody>\n",
       "    <tr>\n",
       "      <th>MWU</th>\n",
       "      <td>563.0</td>\n",
       "      <td>less</td>\n",
       "      <td>6.289123e-09</td>\n",
       "      <td>0.887512</td>\n",
       "      <td>0.943756</td>\n",
       "    </tr>\n",
       "  </tbody>\n",
       "</table>\n",
       "</div>"
      ],
      "text/plain": [
       "     U-val alternative         p-val       RBC      CLES\n",
       "MWU  563.0        less  6.289123e-09  0.887512  0.943756"
      ]
     },
     "metadata": {},
     "output_type": "display_data"
    },
    {
     "name": "stdout",
     "output_type": "stream",
     "text": [
      "p-value для параметра satisfaction = 6.289122585799481e-09\n",
      "Отклоняем нулевую гипотезу\n"
     ]
    },
    {
     "data": {
      "text/html": [
       "<div>\n",
       "<style scoped>\n",
       "    .dataframe tbody tr th:only-of-type {\n",
       "        vertical-align: middle;\n",
       "    }\n",
       "\n",
       "    .dataframe tbody tr th {\n",
       "        vertical-align: top;\n",
       "    }\n",
       "\n",
       "    .dataframe thead th {\n",
       "        text-align: right;\n",
       "    }\n",
       "</style>\n",
       "<table border=\"1\" class=\"dataframe\">\n",
       "  <thead>\n",
       "    <tr style=\"text-align: right;\">\n",
       "      <th></th>\n",
       "      <th>U-val</th>\n",
       "      <th>alternative</th>\n",
       "      <th>p-val</th>\n",
       "      <th>RBC</th>\n",
       "      <th>CLES</th>\n",
       "    </tr>\n",
       "  </thead>\n",
       "  <tbody>\n",
       "    <tr>\n",
       "      <th>MWU</th>\n",
       "      <td>6058.0</td>\n",
       "      <td>greater</td>\n",
       "      <td>0.088707</td>\n",
       "      <td>-0.21039</td>\n",
       "      <td>0.605195</td>\n",
       "    </tr>\n",
       "  </tbody>\n",
       "</table>\n",
       "</div>"
      ],
      "text/plain": [
       "      U-val alternative     p-val      RBC      CLES\n",
       "MWU  6058.0     greater  0.088707 -0.21039  0.605195"
      ]
     },
     "metadata": {},
     "output_type": "display_data"
    },
    {
     "name": "stdout",
     "output_type": "stream",
     "text": [
      "p-value для параметра review = 0.08870724227657545\n",
      "Не удалось отклонить нулевую гипотезу\n"
     ]
    }
   ],
   "source": [
    "mwu_sat_rev(senior_pomidor, {'satisfaction':'less', 'review':'greater'})"
   ]
  },
  {
   "cell_type": "markdown",
   "id": "8b0d4a0c",
   "metadata": {},
   "source": [
    "Нулевая гипотеза: распределения не отличаются от ожидаемых. Альтернативная гипотеза: распределение зависит от того, к какой группе принадлежит работник. Уровень статистической значимости = 0.05"
   ]
  },
  {
   "cell_type": "code",
   "execution_count": 70,
   "id": "788fbaa2",
   "metadata": {},
   "outputs": [
    {
     "data": {
      "text/html": [
       "<div>\n",
       "<style scoped>\n",
       "    .dataframe tbody tr th:only-of-type {\n",
       "        vertical-align: middle;\n",
       "    }\n",
       "\n",
       "    .dataframe tbody tr th {\n",
       "        vertical-align: top;\n",
       "    }\n",
       "\n",
       "    .dataframe thead th {\n",
       "        text-align: right;\n",
       "    }\n",
       "</style>\n",
       "<table border=\"1\" class=\"dataframe\">\n",
       "  <thead>\n",
       "    <tr style=\"text-align: right;\">\n",
       "      <th>promoted</th>\n",
       "      <th>0</th>\n",
       "      <th>1</th>\n",
       "    </tr>\n",
       "    <tr>\n",
       "      <th>left</th>\n",
       "      <th></th>\n",
       "      <th></th>\n",
       "    </tr>\n",
       "  </thead>\n",
       "  <tbody>\n",
       "    <tr>\n",
       "      <th>0</th>\n",
       "      <td>685.0</td>\n",
       "      <td>30.0</td>\n",
       "    </tr>\n",
       "    <tr>\n",
       "      <th>1</th>\n",
       "      <td>14.0</td>\n",
       "      <td>0.0</td>\n",
       "    </tr>\n",
       "  </tbody>\n",
       "</table>\n",
       "</div>"
      ],
      "text/plain": [
       "promoted      0     1\n",
       "left                 \n",
       "0         685.0  30.0\n",
       "1          14.0   0.0"
      ]
     },
     "metadata": {},
     "output_type": "display_data"
    },
    {
     "name": "stdout",
     "output_type": "stream",
     "text": [
      "p-value для параметра promoted = 1.0\n",
      "Не удалось отклонить нулевую гипотезу\n"
     ]
    },
    {
     "data": {
      "text/html": [
       "<div>\n",
       "<style scoped>\n",
       "    .dataframe tbody tr th:only-of-type {\n",
       "        vertical-align: middle;\n",
       "    }\n",
       "\n",
       "    .dataframe tbody tr th {\n",
       "        vertical-align: top;\n",
       "    }\n",
       "\n",
       "    .dataframe thead th {\n",
       "        text-align: right;\n",
       "    }\n",
       "</style>\n",
       "<table border=\"1\" class=\"dataframe\">\n",
       "  <thead>\n",
       "    <tr style=\"text-align: right;\">\n",
       "      <th>bonus</th>\n",
       "      <th>0</th>\n",
       "      <th>1</th>\n",
       "    </tr>\n",
       "    <tr>\n",
       "      <th>left</th>\n",
       "      <th></th>\n",
       "      <th></th>\n",
       "    </tr>\n",
       "  </thead>\n",
       "  <tbody>\n",
       "    <tr>\n",
       "      <th>0</th>\n",
       "      <td>570</td>\n",
       "      <td>145</td>\n",
       "    </tr>\n",
       "    <tr>\n",
       "      <th>1</th>\n",
       "      <td>11</td>\n",
       "      <td>3</td>\n",
       "    </tr>\n",
       "  </tbody>\n",
       "</table>\n",
       "</div>"
      ],
      "text/plain": [
       "bonus    0    1\n",
       "left           \n",
       "0      570  145\n",
       "1       11    3"
      ]
     },
     "metadata": {},
     "output_type": "display_data"
    },
    {
     "name": "stdout",
     "output_type": "stream",
     "text": [
      "p-value для параметра bonus = 1.0\n",
      "Не удалось отклонить нулевую гипотезу\n"
     ]
    }
   ],
   "source": [
    "fisher(senior_pomidor, 'promoted', 'bonus')"
   ]
  },
  {
   "cell_type": "markdown",
   "id": "88428afe",
   "metadata": {},
   "source": [
    "**Вывод:** Наиболее опытные сотрудники увольняются в случае, когда их уровень удовлетворенности очень низкий, если уровень удовлетворения средний и выше, то с большой долей вероятности они останутся в компании и дальше."
   ]
  },
  {
   "cell_type": "markdown",
   "id": "879bec82",
   "metadata": {},
   "source": [
    "## Анализ $К_т$ по отделам и стажу работы"
   ]
  },
  {
   "cell_type": "markdown",
   "id": "41f410d1",
   "metadata": {},
   "source": [
    "Найдем количество уволившихся сотрудников в каждом отделе для каждого грейда"
   ]
  },
  {
   "cell_type": "code",
   "execution_count": 71,
   "id": "d4d2a85f",
   "metadata": {},
   "outputs": [
    {
     "data": {
      "text/html": [
       "<div>\n",
       "<style scoped>\n",
       "    .dataframe tbody tr th:only-of-type {\n",
       "        vertical-align: middle;\n",
       "    }\n",
       "\n",
       "    .dataframe tbody tr th {\n",
       "        vertical-align: top;\n",
       "    }\n",
       "\n",
       "    .dataframe thead th {\n",
       "        text-align: right;\n",
       "    }\n",
       "</style>\n",
       "<table border=\"1\" class=\"dataframe\">\n",
       "  <thead>\n",
       "    <tr style=\"text-align: right;\">\n",
       "      <th>grade</th>\n",
       "      <th>junior</th>\n",
       "      <th>middle</th>\n",
       "      <th>senior</th>\n",
       "      <th>senior-pomidor</th>\n",
       "    </tr>\n",
       "    <tr>\n",
       "      <th>department</th>\n",
       "      <th></th>\n",
       "      <th></th>\n",
       "      <th></th>\n",
       "      <th></th>\n",
       "    </tr>\n",
       "  </thead>\n",
       "  <tbody>\n",
       "    <tr>\n",
       "      <th>IT</th>\n",
       "      <td>1</td>\n",
       "      <td>41</td>\n",
       "      <td>67</td>\n",
       "      <td>1</td>\n",
       "    </tr>\n",
       "    <tr>\n",
       "      <th>admin</th>\n",
       "      <td>4</td>\n",
       "      <td>35</td>\n",
       "      <td>79</td>\n",
       "      <td>1</td>\n",
       "    </tr>\n",
       "    <tr>\n",
       "      <th>engineering</th>\n",
       "      <td>2</td>\n",
       "      <td>174</td>\n",
       "      <td>260</td>\n",
       "      <td>1</td>\n",
       "    </tr>\n",
       "    <tr>\n",
       "      <th>finance</th>\n",
       "      <td>0</td>\n",
       "      <td>46</td>\n",
       "      <td>59</td>\n",
       "      <td>3</td>\n",
       "    </tr>\n",
       "    <tr>\n",
       "      <th>logistics</th>\n",
       "      <td>4</td>\n",
       "      <td>46</td>\n",
       "      <td>61</td>\n",
       "      <td>0</td>\n",
       "    </tr>\n",
       "    <tr>\n",
       "      <th>marketing</th>\n",
       "      <td>3</td>\n",
       "      <td>106</td>\n",
       "      <td>132</td>\n",
       "      <td>2</td>\n",
       "    </tr>\n",
       "    <tr>\n",
       "      <th>operations</th>\n",
       "      <td>1</td>\n",
       "      <td>174</td>\n",
       "      <td>260</td>\n",
       "      <td>1</td>\n",
       "    </tr>\n",
       "    <tr>\n",
       "      <th>retail</th>\n",
       "      <td>6</td>\n",
       "      <td>178</td>\n",
       "      <td>283</td>\n",
       "      <td>4</td>\n",
       "    </tr>\n",
       "    <tr>\n",
       "      <th>sales</th>\n",
       "      <td>8</td>\n",
       "      <td>214</td>\n",
       "      <td>314</td>\n",
       "      <td>1</td>\n",
       "    </tr>\n",
       "    <tr>\n",
       "      <th>support</th>\n",
       "      <td>3</td>\n",
       "      <td>78</td>\n",
       "      <td>131</td>\n",
       "      <td>0</td>\n",
       "    </tr>\n",
       "  </tbody>\n",
       "</table>\n",
       "</div>"
      ],
      "text/plain": [
       "grade        junior  middle  senior  senior-pomidor\n",
       "department                                         \n",
       "IT                1      41      67               1\n",
       "admin             4      35      79               1\n",
       "engineering       2     174     260               1\n",
       "finance           0      46      59               3\n",
       "logistics         4      46      61               0\n",
       "marketing         3     106     132               2\n",
       "operations        1     174     260               1\n",
       "retail            6     178     283               4\n",
       "sales             8     214     314               1\n",
       "support           3      78     131               0"
      ]
     },
     "execution_count": 71,
     "metadata": {},
     "output_type": "execute_result"
    }
   ],
   "source": [
    "left_by_dep_grade = empls.groupby(['department', 'grade'])['left'].sum().unstack()\n",
    "left_by_dep_grade"
   ]
  },
  {
   "cell_type": "markdown",
   "id": "74b52e1e",
   "metadata": {},
   "source": [
    "Рассчитаем для них $К_т$ и построим график"
   ]
  },
  {
   "cell_type": "code",
   "execution_count": 72,
   "id": "5ec86967",
   "metadata": {},
   "outputs": [
    {
     "data": {
      "text/html": [
       "<div>\n",
       "<style scoped>\n",
       "    .dataframe tbody tr th:only-of-type {\n",
       "        vertical-align: middle;\n",
       "    }\n",
       "\n",
       "    .dataframe tbody tr th {\n",
       "        vertical-align: top;\n",
       "    }\n",
       "\n",
       "    .dataframe thead th {\n",
       "        text-align: right;\n",
       "    }\n",
       "</style>\n",
       "<table border=\"1\" class=\"dataframe\">\n",
       "  <thead>\n",
       "    <tr style=\"text-align: right;\">\n",
       "      <th>grade</th>\n",
       "      <th>junior</th>\n",
       "      <th>middle</th>\n",
       "      <th>senior</th>\n",
       "      <th>senior-pomidor</th>\n",
       "    </tr>\n",
       "    <tr>\n",
       "      <th>department</th>\n",
       "      <th></th>\n",
       "      <th></th>\n",
       "      <th></th>\n",
       "      <th></th>\n",
       "    </tr>\n",
       "  </thead>\n",
       "  <tbody>\n",
       "    <tr>\n",
       "      <th>IT</th>\n",
       "      <td>50.00</td>\n",
       "      <td>24.40</td>\n",
       "      <td>42.41</td>\n",
       "      <td>3.57</td>\n",
       "    </tr>\n",
       "    <tr>\n",
       "      <th>admin</th>\n",
       "      <td>66.67</td>\n",
       "      <td>16.59</td>\n",
       "      <td>45.93</td>\n",
       "      <td>2.94</td>\n",
       "    </tr>\n",
       "    <tr>\n",
       "      <th>engineering</th>\n",
       "      <td>25.00</td>\n",
       "      <td>23.74</td>\n",
       "      <td>39.16</td>\n",
       "      <td>0.90</td>\n",
       "    </tr>\n",
       "    <tr>\n",
       "      <th>finance</th>\n",
       "      <td>0.00</td>\n",
       "      <td>22.01</td>\n",
       "      <td>34.71</td>\n",
       "      <td>13.64</td>\n",
       "    </tr>\n",
       "    <tr>\n",
       "      <th>logistics</th>\n",
       "      <td>80.00</td>\n",
       "      <td>26.29</td>\n",
       "      <td>40.13</td>\n",
       "      <td>0.00</td>\n",
       "    </tr>\n",
       "    <tr>\n",
       "      <th>marketing</th>\n",
       "      <td>50.00</td>\n",
       "      <td>25.98</td>\n",
       "      <td>40.12</td>\n",
       "      <td>3.39</td>\n",
       "    </tr>\n",
       "    <tr>\n",
       "      <th>operations</th>\n",
       "      <td>25.00</td>\n",
       "      <td>24.00</td>\n",
       "      <td>38.92</td>\n",
       "      <td>0.80</td>\n",
       "    </tr>\n",
       "    <tr>\n",
       "      <th>retail</th>\n",
       "      <td>66.67</td>\n",
       "      <td>23.70</td>\n",
       "      <td>42.75</td>\n",
       "      <td>3.36</td>\n",
       "    </tr>\n",
       "    <tr>\n",
       "      <th>sales</th>\n",
       "      <td>57.14</td>\n",
       "      <td>23.19</td>\n",
       "      <td>39.30</td>\n",
       "      <td>0.68</td>\n",
       "    </tr>\n",
       "    <tr>\n",
       "      <th>support</th>\n",
       "      <td>60.00</td>\n",
       "      <td>22.22</td>\n",
       "      <td>40.56</td>\n",
       "      <td>0.00</td>\n",
       "    </tr>\n",
       "  </tbody>\n",
       "</table>\n",
       "</div>"
      ],
      "text/plain": [
       "grade        junior  middle  senior  senior-pomidor\n",
       "department                                         \n",
       "IT            50.00   24.40   42.41            3.57\n",
       "admin         66.67   16.59   45.93            2.94\n",
       "engineering   25.00   23.74   39.16            0.90\n",
       "finance        0.00   22.01   34.71           13.64\n",
       "logistics     80.00   26.29   40.13            0.00\n",
       "marketing     50.00   25.98   40.12            3.39\n",
       "operations    25.00   24.00   38.92            0.80\n",
       "retail        66.67   23.70   42.75            3.36\n",
       "sales         57.14   23.19   39.30            0.68\n",
       "support       60.00   22.22   40.56            0.00"
      ]
     },
     "execution_count": 72,
     "metadata": {},
     "output_type": "execute_result"
    }
   ],
   "source": [
    "grades_dep_coef = empls.groupby(['department', 'grade'])['left'].mean().unstack()\n",
    "for col in grades_dep_coef.columns:\n",
    "    grades_dep_coef[col] = round(grades_dep_coef[col] * 100, 2)\n",
    "\n",
    "grades_dep_coef"
   ]
  },
  {
   "cell_type": "code",
   "execution_count": 73,
   "id": "71269160",
   "metadata": {},
   "outputs": [
    {
     "data": {
      "image/png": "[encoded data removed]",
      "text/plain": [
       "<Figure size 864x576 with 2 Axes>"
      ]
     },
     "metadata": {
      "needs_background": "light"
     },
     "output_type": "display_data"
    }
   ],
   "source": [
    "fig, ax = plt.subplots(figsize=(12,8))\n",
    "sns.heatmap(grades_dep_coef, vmin=0, vmax=100, annot=True, cmap='BuPu')\n",
    "plt.title('Коэффициент текучести кадров по департаментам')\n",
    "plt.show()"
   ]
  },
  {
   "cell_type": "markdown",
   "id": "40d714aa",
   "metadata": {},
   "source": [
    "Работа по снижению текучести кадров должна проводиться во всех отделах, т.к. низкие значения $К_т$ встречаются намного реже."
   ]
  },
  {
   "cell_type": "markdown",
   "id": "3c30e4df",
   "metadata": {},
   "source": [
    "## Выводы\n"
   ]
  },
  {
   "cell_type": "markdown",
   "id": "21be93f1",
   "metadata": {},
   "source": [
    "Начинающие специалисты увольняются, если их уровень удовлетворенности низкий, повышения и бонусы не оказывают такого влияния. При этом средняя оценка уволившихся новичков выше, чем у оставшихся в компании. Можем предположить, что для получения более высокого балла работнику приходится прикладывать намного больше усилий, что сказывается на желании продолжать сотрудничать с компанией. \n",
    "<br> Сотрудники со стажем 4-6 лет увольняются, если их уровень удовлетворенности низкий. При этом их оценка, как и у начинающих работников, в среднем выше. При отсутствии повышения они также склонны к тому, чтобы покинуть компанию.\n",
    "<br>Работники с опытом работы 7 лет, решившие покинуть компанию имеют больший уровень удовлетворенности, однако их средняя оценка ниже. Также они отрабатывают больше часов в месяц.\n",
    "<br>Ушедшие сотрудники с опытом работы 8 лет в среднем получают более высокий балл за аттестацию и имеют больший уровень удовлетворения при меньшем количестве отработанных часов в месяц. По имеющимся данным не удалось выяснить, по какой причине они решают уволиться, поэтому необходимо дополнить имеющиеся данные.\n",
    "<br>Наиболее опытные сотрудники увольняются в случае, когда их уровень удовлетворенности очеь низок, если уровень удовлетворения средний и выше, то с большой долей вероятности они останутся в компании и дальше."
   ]
  },
  {
   "cell_type": "markdown",
   "id": "3051bf44",
   "metadata": {},
   "source": [
    "Компании следует отслеживать уровень удовлетворенности и стараться повышать его среди всех сотрудников (своевременно реагировать на обратную связь, повышать лояльность коллектива, улучшать обстановку внутри отделов и т.д.), проработать систему повышений сотрудников (особенно для работников со стажем 4-6 лет), контролировать количество отработанных часов в месяц. \n",
    "<br>Работа по снижению текучести кадров должна проводиться во всех отделах."
   ]
  }
 ],
 "metadata": {
  "interpreter": {
   "hash": "04c40005bc1ca9d5a4118bd7786adc48ff556d2d47c5a998e04fab964ecd8770"
  },
  "kernelspec": {
   "display_name": "Python 3.9.7 ('base')",
   "language": "python",
   "name": "python3"
  },
  "language_info": {
   "codemirror_mode": {
    "name": "ipython",
    "version": 3
   },
   "file_extension": ".py",
   "mimetype": "text/x-python",
   "name": "python",
   "nbconvert_exporter": "python",
   "pygments_lexer": "ipython3",
   "version": "3.9.7"
  }
 },
 "nbformat": 4,
 "nbformat_minor": 5
}
